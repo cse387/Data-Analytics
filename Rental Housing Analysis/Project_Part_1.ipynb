{
 "cells": [
  {
   "cell_type": "code",
   "execution_count": 1,
   "metadata": {},
   "outputs": [],
   "source": [
    "import pandas as pd\n",
    "from matplotlib import pyplot as plt\n",
    "\n",
    "## LOAD DATA SETS\n",
    "listings = pd.read_csv(\"listings_cleaned.csv\")\n",
    "calendar = pd.read_csv(\"calendar.csv\")"
   ]
  },
  {
   "cell_type": "markdown",
   "metadata": {},
   "source": [
    "### Display The First 10 rows per Dataset"
   ]
  },
  {
   "cell_type": "code",
   "execution_count": 2,
   "metadata": {},
   "outputs": [
    {
     "data": {
      "text/html": [
       "<div>\n",
       "<style scoped>\n",
       "    .dataframe tbody tr th:only-of-type {\n",
       "        vertical-align: middle;\n",
       "    }\n",
       "\n",
       "    .dataframe tbody tr th {\n",
       "        vertical-align: top;\n",
       "    }\n",
       "\n",
       "    .dataframe thead th {\n",
       "        text-align: right;\n",
       "    }\n",
       "</style>\n",
       "<table border=\"1\" class=\"dataframe\">\n",
       "  <thead>\n",
       "    <tr style=\"text-align: right;\">\n",
       "      <th></th>\n",
       "      <th>listing_id</th>\n",
       "      <th>date</th>\n",
       "      <th>available</th>\n",
       "      <th>price</th>\n",
       "      <th>minimum_nights</th>\n",
       "      <th>maximum_nights</th>\n",
       "    </tr>\n",
       "  </thead>\n",
       "  <tbody>\n",
       "    <tr>\n",
       "      <th>0</th>\n",
       "      <td>536197</td>\n",
       "      <td>2020-10-25</td>\n",
       "      <td>f</td>\n",
       "      <td>$88.00</td>\n",
       "      <td>2.0</td>\n",
       "      <td>1125.0</td>\n",
       "    </tr>\n",
       "    <tr>\n",
       "      <th>1</th>\n",
       "      <td>10595</td>\n",
       "      <td>2020-10-26</td>\n",
       "      <td>f</td>\n",
       "      <td>$60.00</td>\n",
       "      <td>2.0</td>\n",
       "      <td>45.0</td>\n",
       "    </tr>\n",
       "    <tr>\n",
       "      <th>2</th>\n",
       "      <td>10595</td>\n",
       "      <td>2020-10-27</td>\n",
       "      <td>f</td>\n",
       "      <td>$60.00</td>\n",
       "      <td>2.0</td>\n",
       "      <td>45.0</td>\n",
       "    </tr>\n",
       "    <tr>\n",
       "      <th>3</th>\n",
       "      <td>10595</td>\n",
       "      <td>2020-10-28</td>\n",
       "      <td>f</td>\n",
       "      <td>$60.00</td>\n",
       "      <td>2.0</td>\n",
       "      <td>45.0</td>\n",
       "    </tr>\n",
       "    <tr>\n",
       "      <th>4</th>\n",
       "      <td>10595</td>\n",
       "      <td>2020-10-29</td>\n",
       "      <td>f</td>\n",
       "      <td>$60.00</td>\n",
       "      <td>2.0</td>\n",
       "      <td>45.0</td>\n",
       "    </tr>\n",
       "    <tr>\n",
       "      <th>5</th>\n",
       "      <td>10595</td>\n",
       "      <td>2020-10-30</td>\n",
       "      <td>f</td>\n",
       "      <td>$60.00</td>\n",
       "      <td>2.0</td>\n",
       "      <td>45.0</td>\n",
       "    </tr>\n",
       "    <tr>\n",
       "      <th>6</th>\n",
       "      <td>10595</td>\n",
       "      <td>2020-10-31</td>\n",
       "      <td>f</td>\n",
       "      <td>$60.00</td>\n",
       "      <td>2.0</td>\n",
       "      <td>45.0</td>\n",
       "    </tr>\n",
       "    <tr>\n",
       "      <th>7</th>\n",
       "      <td>10595</td>\n",
       "      <td>2020-11-01</td>\n",
       "      <td>f</td>\n",
       "      <td>$80.00</td>\n",
       "      <td>2.0</td>\n",
       "      <td>45.0</td>\n",
       "    </tr>\n",
       "    <tr>\n",
       "      <th>8</th>\n",
       "      <td>10595</td>\n",
       "      <td>2020-11-02</td>\n",
       "      <td>f</td>\n",
       "      <td>$80.00</td>\n",
       "      <td>2.0</td>\n",
       "      <td>45.0</td>\n",
       "    </tr>\n",
       "    <tr>\n",
       "      <th>9</th>\n",
       "      <td>10595</td>\n",
       "      <td>2020-11-03</td>\n",
       "      <td>f</td>\n",
       "      <td>$80.00</td>\n",
       "      <td>2.0</td>\n",
       "      <td>45.0</td>\n",
       "    </tr>\n",
       "  </tbody>\n",
       "</table>\n",
       "</div>"
      ],
      "text/plain": [
       "   listing_id        date available   price  minimum_nights  maximum_nights\n",
       "0      536197  2020-10-25         f  $88.00             2.0          1125.0\n",
       "1       10595  2020-10-26         f  $60.00             2.0            45.0\n",
       "2       10595  2020-10-27         f  $60.00             2.0            45.0\n",
       "3       10595  2020-10-28         f  $60.00             2.0            45.0\n",
       "4       10595  2020-10-29         f  $60.00             2.0            45.0\n",
       "5       10595  2020-10-30         f  $60.00             2.0            45.0\n",
       "6       10595  2020-10-31         f  $60.00             2.0            45.0\n",
       "7       10595  2020-11-01         f  $80.00             2.0            45.0\n",
       "8       10595  2020-11-02         f  $80.00             2.0            45.0\n",
       "9       10595  2020-11-03         f  $80.00             2.0            45.0"
      ]
     },
     "metadata": {},
     "output_type": "display_data"
    }
   ],
   "source": [
    "display(calendar.head(n = 10))"
   ]
  },
  {
   "cell_type": "code",
   "execution_count": 3,
   "metadata": {},
   "outputs": [
    {
     "data": {
      "text/html": [
       "<div>\n",
       "<style scoped>\n",
       "    .dataframe tbody tr th:only-of-type {\n",
       "        vertical-align: middle;\n",
       "    }\n",
       "\n",
       "    .dataframe tbody tr th {\n",
       "        vertical-align: top;\n",
       "    }\n",
       "\n",
       "    .dataframe thead th {\n",
       "        text-align: right;\n",
       "    }\n",
       "</style>\n",
       "<table border=\"1\" class=\"dataframe\">\n",
       "  <thead>\n",
       "    <tr style=\"text-align: right;\">\n",
       "      <th></th>\n",
       "      <th>id</th>\n",
       "      <th>host_id</th>\n",
       "      <th>host_name</th>\n",
       "      <th>host_since</th>\n",
       "      <th>host_response_time</th>\n",
       "      <th>host_response_rate</th>\n",
       "      <th>host_acceptance_rate</th>\n",
       "      <th>host_is_superhost</th>\n",
       "      <th>host_listings_count</th>\n",
       "      <th>host_total_listings_count</th>\n",
       "      <th>...</th>\n",
       "      <th>review_scores_communication</th>\n",
       "      <th>review_scores_location</th>\n",
       "      <th>review_scores_value</th>\n",
       "      <th>license</th>\n",
       "      <th>instant_bookable</th>\n",
       "      <th>calculated_host_listings_count</th>\n",
       "      <th>calculated_host_listings_count_entire_homes</th>\n",
       "      <th>calculated_host_listings_count_private_rooms</th>\n",
       "      <th>calculated_host_listings_count_shared_rooms</th>\n",
       "      <th>reviews_per_month</th>\n",
       "    </tr>\n",
       "  </thead>\n",
       "  <tbody>\n",
       "    <tr>\n",
       "      <th>0</th>\n",
       "      <td>10595</td>\n",
       "      <td>37177</td>\n",
       "      <td>Emmanouil</td>\n",
       "      <td>2009-09-08</td>\n",
       "      <td>within an hour</td>\n",
       "      <td>100%</td>\n",
       "      <td>97%</td>\n",
       "      <td>t</td>\n",
       "      <td>6.0</td>\n",
       "      <td>6.0</td>\n",
       "      <td>...</td>\n",
       "      <td>10.0</td>\n",
       "      <td>9.0</td>\n",
       "      <td>10.0</td>\n",
       "      <td>478825</td>\n",
       "      <td>t</td>\n",
       "      <td>6</td>\n",
       "      <td>6</td>\n",
       "      <td>0</td>\n",
       "      <td>0</td>\n",
       "      <td>0.23</td>\n",
       "    </tr>\n",
       "    <tr>\n",
       "      <th>1</th>\n",
       "      <td>10990</td>\n",
       "      <td>37177</td>\n",
       "      <td>Emmanouil</td>\n",
       "      <td>2009-09-08</td>\n",
       "      <td>within an hour</td>\n",
       "      <td>100%</td>\n",
       "      <td>97%</td>\n",
       "      <td>t</td>\n",
       "      <td>6.0</td>\n",
       "      <td>6.0</td>\n",
       "      <td>...</td>\n",
       "      <td>10.0</td>\n",
       "      <td>10.0</td>\n",
       "      <td>10.0</td>\n",
       "      <td>400315</td>\n",
       "      <td>t</td>\n",
       "      <td>6</td>\n",
       "      <td>6</td>\n",
       "      <td>0</td>\n",
       "      <td>0</td>\n",
       "      <td>0.41</td>\n",
       "    </tr>\n",
       "    <tr>\n",
       "      <th>2</th>\n",
       "      <td>10993</td>\n",
       "      <td>37177</td>\n",
       "      <td>Emmanouil</td>\n",
       "      <td>2009-09-08</td>\n",
       "      <td>within an hour</td>\n",
       "      <td>100%</td>\n",
       "      <td>97%</td>\n",
       "      <td>t</td>\n",
       "      <td>6.0</td>\n",
       "      <td>6.0</td>\n",
       "      <td>...</td>\n",
       "      <td>10.0</td>\n",
       "      <td>10.0</td>\n",
       "      <td>10.0</td>\n",
       "      <td>478790</td>\n",
       "      <td>t</td>\n",
       "      <td>6</td>\n",
       "      <td>6</td>\n",
       "      <td>0</td>\n",
       "      <td>0</td>\n",
       "      <td>0.53</td>\n",
       "    </tr>\n",
       "    <tr>\n",
       "      <th>3</th>\n",
       "      <td>10995</td>\n",
       "      <td>37177</td>\n",
       "      <td>Emmanouil</td>\n",
       "      <td>2009-09-08</td>\n",
       "      <td>within an hour</td>\n",
       "      <td>100%</td>\n",
       "      <td>97%</td>\n",
       "      <td>t</td>\n",
       "      <td>6.0</td>\n",
       "      <td>6.0</td>\n",
       "      <td>...</td>\n",
       "      <td>10.0</td>\n",
       "      <td>10.0</td>\n",
       "      <td>10.0</td>\n",
       "      <td>479159</td>\n",
       "      <td>t</td>\n",
       "      <td>6</td>\n",
       "      <td>6</td>\n",
       "      <td>0</td>\n",
       "      <td>0</td>\n",
       "      <td>0.18</td>\n",
       "    </tr>\n",
       "    <tr>\n",
       "      <th>4</th>\n",
       "      <td>27262</td>\n",
       "      <td>37177</td>\n",
       "      <td>Emmanouil</td>\n",
       "      <td>2009-09-08</td>\n",
       "      <td>within an hour</td>\n",
       "      <td>100%</td>\n",
       "      <td>97%</td>\n",
       "      <td>t</td>\n",
       "      <td>6.0</td>\n",
       "      <td>6.0</td>\n",
       "      <td>...</td>\n",
       "      <td>10.0</td>\n",
       "      <td>9.0</td>\n",
       "      <td>9.0</td>\n",
       "      <td>492624</td>\n",
       "      <td>t</td>\n",
       "      <td>6</td>\n",
       "      <td>6</td>\n",
       "      <td>0</td>\n",
       "      <td>0</td>\n",
       "      <td>0.17</td>\n",
       "    </tr>\n",
       "    <tr>\n",
       "      <th>5</th>\n",
       "      <td>28186</td>\n",
       "      <td>121318</td>\n",
       "      <td>Francis - Fotios</td>\n",
       "      <td>2010-05-09</td>\n",
       "      <td>within an hour</td>\n",
       "      <td>100%</td>\n",
       "      <td>100%</td>\n",
       "      <td>t</td>\n",
       "      <td>2.0</td>\n",
       "      <td>2.0</td>\n",
       "      <td>...</td>\n",
       "      <td>10.0</td>\n",
       "      <td>10.0</td>\n",
       "      <td>10.0</td>\n",
       "      <td>264915</td>\n",
       "      <td>t</td>\n",
       "      <td>2</td>\n",
       "      <td>2</td>\n",
       "      <td>0</td>\n",
       "      <td>0</td>\n",
       "      <td>4.43</td>\n",
       "    </tr>\n",
       "    <tr>\n",
       "      <th>6</th>\n",
       "      <td>31155</td>\n",
       "      <td>133845</td>\n",
       "      <td>Irene</td>\n",
       "      <td>2010-05-28</td>\n",
       "      <td>NaN</td>\n",
       "      <td>NaN</td>\n",
       "      <td>NaN</td>\n",
       "      <td>f</td>\n",
       "      <td>1.0</td>\n",
       "      <td>1.0</td>\n",
       "      <td>...</td>\n",
       "      <td>NaN</td>\n",
       "      <td>NaN</td>\n",
       "      <td>NaN</td>\n",
       "      <td>NaN</td>\n",
       "      <td>f</td>\n",
       "      <td>1</td>\n",
       "      <td>0</td>\n",
       "      <td>1</td>\n",
       "      <td>0</td>\n",
       "      <td>NaN</td>\n",
       "    </tr>\n",
       "    <tr>\n",
       "      <th>7</th>\n",
       "      <td>33945</td>\n",
       "      <td>146553</td>\n",
       "      <td>Katerina</td>\n",
       "      <td>2010-06-17</td>\n",
       "      <td>a few days or more</td>\n",
       "      <td>0%</td>\n",
       "      <td>NaN</td>\n",
       "      <td>f</td>\n",
       "      <td>2.0</td>\n",
       "      <td>2.0</td>\n",
       "      <td>...</td>\n",
       "      <td>10.0</td>\n",
       "      <td>9.0</td>\n",
       "      <td>10.0</td>\n",
       "      <td>NaN</td>\n",
       "      <td>f</td>\n",
       "      <td>2</td>\n",
       "      <td>2</td>\n",
       "      <td>0</td>\n",
       "      <td>0</td>\n",
       "      <td>0.58</td>\n",
       "    </tr>\n",
       "    <tr>\n",
       "      <th>8</th>\n",
       "      <td>49489</td>\n",
       "      <td>225612</td>\n",
       "      <td>Stathis</td>\n",
       "      <td>2010-09-06</td>\n",
       "      <td>within an hour</td>\n",
       "      <td>100%</td>\n",
       "      <td>100%</td>\n",
       "      <td>t</td>\n",
       "      <td>5.0</td>\n",
       "      <td>5.0</td>\n",
       "      <td>...</td>\n",
       "      <td>10.0</td>\n",
       "      <td>10.0</td>\n",
       "      <td>10.0</td>\n",
       "      <td>876484</td>\n",
       "      <td>t</td>\n",
       "      <td>1</td>\n",
       "      <td>1</td>\n",
       "      <td>0</td>\n",
       "      <td>0</td>\n",
       "      <td>1.08</td>\n",
       "    </tr>\n",
       "    <tr>\n",
       "      <th>9</th>\n",
       "      <td>54637</td>\n",
       "      <td>256676</td>\n",
       "      <td>Angeliki</td>\n",
       "      <td>2010-10-08</td>\n",
       "      <td>NaN</td>\n",
       "      <td>NaN</td>\n",
       "      <td>NaN</td>\n",
       "      <td>f</td>\n",
       "      <td>1.0</td>\n",
       "      <td>1.0</td>\n",
       "      <td>...</td>\n",
       "      <td>10.0</td>\n",
       "      <td>10.0</td>\n",
       "      <td>8.0</td>\n",
       "      <td>NaN</td>\n",
       "      <td>f</td>\n",
       "      <td>1</td>\n",
       "      <td>1</td>\n",
       "      <td>0</td>\n",
       "      <td>0</td>\n",
       "      <td>0.04</td>\n",
       "    </tr>\n",
       "  </tbody>\n",
       "</table>\n",
       "<p>10 rows × 52 columns</p>\n",
       "</div>"
      ],
      "text/plain": [
       "      id  host_id         host_name  host_since  host_response_time  \\\n",
       "0  10595    37177         Emmanouil  2009-09-08      within an hour   \n",
       "1  10990    37177         Emmanouil  2009-09-08      within an hour   \n",
       "2  10993    37177         Emmanouil  2009-09-08      within an hour   \n",
       "3  10995    37177         Emmanouil  2009-09-08      within an hour   \n",
       "4  27262    37177         Emmanouil  2009-09-08      within an hour   \n",
       "5  28186   121318  Francis - Fotios  2010-05-09      within an hour   \n",
       "6  31155   133845             Irene  2010-05-28                 NaN   \n",
       "7  33945   146553          Katerina  2010-06-17  a few days or more   \n",
       "8  49489   225612           Stathis  2010-09-06      within an hour   \n",
       "9  54637   256676          Angeliki  2010-10-08                 NaN   \n",
       "\n",
       "  host_response_rate host_acceptance_rate host_is_superhost  \\\n",
       "0               100%                  97%                 t   \n",
       "1               100%                  97%                 t   \n",
       "2               100%                  97%                 t   \n",
       "3               100%                  97%                 t   \n",
       "4               100%                  97%                 t   \n",
       "5               100%                 100%                 t   \n",
       "6                NaN                  NaN                 f   \n",
       "7                 0%                  NaN                 f   \n",
       "8               100%                 100%                 t   \n",
       "9                NaN                  NaN                 f   \n",
       "\n",
       "   host_listings_count  host_total_listings_count  ...  \\\n",
       "0                  6.0                        6.0  ...   \n",
       "1                  6.0                        6.0  ...   \n",
       "2                  6.0                        6.0  ...   \n",
       "3                  6.0                        6.0  ...   \n",
       "4                  6.0                        6.0  ...   \n",
       "5                  2.0                        2.0  ...   \n",
       "6                  1.0                        1.0  ...   \n",
       "7                  2.0                        2.0  ...   \n",
       "8                  5.0                        5.0  ...   \n",
       "9                  1.0                        1.0  ...   \n",
       "\n",
       "  review_scores_communication review_scores_location review_scores_value  \\\n",
       "0                        10.0                    9.0                10.0   \n",
       "1                        10.0                   10.0                10.0   \n",
       "2                        10.0                   10.0                10.0   \n",
       "3                        10.0                   10.0                10.0   \n",
       "4                        10.0                    9.0                 9.0   \n",
       "5                        10.0                   10.0                10.0   \n",
       "6                         NaN                    NaN                 NaN   \n",
       "7                        10.0                    9.0                10.0   \n",
       "8                        10.0                   10.0                10.0   \n",
       "9                        10.0                   10.0                 8.0   \n",
       "\n",
       "  license instant_bookable  calculated_host_listings_count  \\\n",
       "0  478825                t                               6   \n",
       "1  400315                t                               6   \n",
       "2  478790                t                               6   \n",
       "3  479159                t                               6   \n",
       "4  492624                t                               6   \n",
       "5  264915                t                               2   \n",
       "6     NaN                f                               1   \n",
       "7     NaN                f                               2   \n",
       "8  876484                t                               1   \n",
       "9     NaN                f                               1   \n",
       "\n",
       "   calculated_host_listings_count_entire_homes  \\\n",
       "0                                            6   \n",
       "1                                            6   \n",
       "2                                            6   \n",
       "3                                            6   \n",
       "4                                            6   \n",
       "5                                            2   \n",
       "6                                            0   \n",
       "7                                            2   \n",
       "8                                            1   \n",
       "9                                            1   \n",
       "\n",
       "  calculated_host_listings_count_private_rooms  \\\n",
       "0                                            0   \n",
       "1                                            0   \n",
       "2                                            0   \n",
       "3                                            0   \n",
       "4                                            0   \n",
       "5                                            0   \n",
       "6                                            1   \n",
       "7                                            0   \n",
       "8                                            0   \n",
       "9                                            0   \n",
       "\n",
       "  calculated_host_listings_count_shared_rooms  reviews_per_month  \n",
       "0                                           0               0.23  \n",
       "1                                           0               0.41  \n",
       "2                                           0               0.53  \n",
       "3                                           0               0.18  \n",
       "4                                           0               0.17  \n",
       "5                                           0               4.43  \n",
       "6                                           0                NaN  \n",
       "7                                           0               0.58  \n",
       "8                                           0               1.08  \n",
       "9                                           0               0.04  \n",
       "\n",
       "[10 rows x 52 columns]"
      ]
     },
     "metadata": {},
     "output_type": "display_data"
    }
   ],
   "source": [
    "display(listings.head(n = 10))"
   ]
  },
  {
   "cell_type": "markdown",
   "metadata": {},
   "source": [
    "### Shape of Both Datasets (Q1)"
   ]
  },
  {
   "cell_type": "code",
   "execution_count": 4,
   "metadata": {},
   "outputs": [
    {
     "name": "stdout",
     "output_type": "stream",
     "text": [
      "Shape of Listings : \n",
      " Number of Samples (Rows)  9455 \n",
      " Number of Features (Cols): 52\n",
      "Shape of Calendar : \n",
      " Number of Samples (Rows)  1048575 \n",
      " Number of Features (Cols): 6\n"
     ]
    }
   ],
   "source": [
    "print(\"Shape of Listings : \\n Number of Samples (Rows) \",listings.shape[0],\"\\n Number of Features (Cols):\",listings.shape[1])\n",
    "print(\"Shape of Calendar : \\n Number of Samples (Rows) \",calendar.shape[0],\"\\n Number of Features (Cols):\",calendar.shape[1])"
   ]
  },
  {
   "cell_type": "markdown",
   "metadata": {},
   "source": [
    "### Mapping Between Features and Data Types (Q2)"
   ]
  },
  {
   "cell_type": "code",
   "execution_count": 5,
   "metadata": {},
   "outputs": [
    {
     "name": "stdout",
     "output_type": "stream",
     "text": [
      "Data Type of Calendar Features:\n",
      "\n",
      "listing_id          int64\n",
      "date               object\n",
      "available          object\n",
      "price              object\n",
      "minimum_nights    float64\n",
      "maximum_nights    float64\n",
      "dtype: object\n"
     ]
    }
   ],
   "source": [
    "print(\"Data Type of Calendar Features:\\n\")\n",
    "print(calendar.dtypes)"
   ]
  },
  {
   "cell_type": "code",
   "execution_count": 6,
   "metadata": {},
   "outputs": [
    {
     "name": "stdout",
     "output_type": "stream",
     "text": [
      "Data Type of Listings Features:\n",
      "\n",
      "id                                                int64\n",
      "host_id                                           int64\n",
      "host_name                                        object\n",
      "host_since                                       object\n",
      "host_response_time                               object\n",
      "host_response_rate                               object\n",
      "host_acceptance_rate                             object\n",
      "host_is_superhost                                object\n",
      "host_listings_count                             float64\n",
      "host_total_listings_count                       float64\n",
      "host_verifications                               object\n",
      "host_has_profile_pic                             object\n",
      "host_identity_verified                           object\n",
      "neighbourhood                                    object\n",
      "neighbourhood_cleansed                           object\n",
      "latitude                                        float64\n",
      "longitude                                       float64\n",
      "property_type                                    object\n",
      "room_type                                        object\n",
      "accommodates                                      int64\n",
      "bathrooms                                       float64\n",
      "bathrooms_text                                   object\n",
      "bedrooms                                        float64\n",
      "beds                                            float64\n",
      "amenities                                        object\n",
      "price                                            object\n",
      "minimum_nights                                    int64\n",
      "maximum_nights                                    int64\n",
      "has_availability                                 object\n",
      "availability_30                                   int64\n",
      "availability_60                                   int64\n",
      "availability_90                                   int64\n",
      "availability_365                                  int64\n",
      "number_of_reviews                                 int64\n",
      "number_of_reviews_ltm                             int64\n",
      "number_of_reviews_l30d                            int64\n",
      "first_review                                     object\n",
      "last_review                                      object\n",
      "review_scores_rating                            float64\n",
      "review_scores_accuracy                          float64\n",
      "review_scores_cleanliness                       float64\n",
      "review_scores_checkin                           float64\n",
      "review_scores_communication                     float64\n",
      "review_scores_location                          float64\n",
      "review_scores_value                             float64\n",
      "license                                          object\n",
      "instant_bookable                                 object\n",
      "calculated_host_listings_count                    int64\n",
      "calculated_host_listings_count_entire_homes       int64\n",
      "calculated_host_listings_count_private_rooms      int64\n",
      "calculated_host_listings_count_shared_rooms       int64\n",
      "reviews_per_month                               float64\n",
      "dtype: object\n"
     ]
    }
   ],
   "source": [
    "print(\"Data Type of Listings Features:\\n\")\n",
    "print(listings.dtypes)"
   ]
  },
  {
   "cell_type": "markdown",
   "metadata": {},
   "source": [
    "### List of the missing values for each feature along with the number of affected rows for both datasets (Q3)"
   ]
  },
  {
   "cell_type": "code",
   "execution_count": 7,
   "metadata": {},
   "outputs": [
    {
     "name": "stdout",
     "output_type": "stream",
     "text": [
      "List of Missing Values in Calendar\n",
      "\n",
      "listing_id         0\n",
      "date               0\n",
      "available          0\n",
      "price              0\n",
      "minimum_nights    66\n",
      "maximum_nights    66\n",
      "dtype: int64 \n",
      "\n",
      "Number of rows affected:  2\n"
     ]
    }
   ],
   "source": [
    "print(\"List of Missing Values in Calendar\\n\")\n",
    "print(calendar.isna().sum(),\"\\n\")\n",
    "print(\"Number of rows affected: \", sum(calendar.isna().sum() != 0))"
   ]
  },
  {
   "cell_type": "code",
   "execution_count": 8,
   "metadata": {},
   "outputs": [
    {
     "name": "stdout",
     "output_type": "stream",
     "text": [
      "List of Missing Values in Listings\n",
      "\n",
      "id                                                 0\n",
      "host_id                                            0\n",
      "host_name                                          4\n",
      "host_since                                         4\n",
      "host_response_time                              2086\n",
      "host_response_rate                              2086\n",
      "host_acceptance_rate                            1725\n",
      "host_is_superhost                                  4\n",
      "host_listings_count                                4\n",
      "host_total_listings_count                          4\n",
      "host_verifications                                 0\n",
      "host_has_profile_pic                               4\n",
      "host_identity_verified                             4\n",
      "neighbourhood                                   2757\n",
      "neighbourhood_cleansed                             0\n",
      "latitude                                           0\n",
      "longitude                                          0\n",
      "property_type                                      0\n",
      "room_type                                          0\n",
      "accommodates                                       0\n",
      "bathrooms                                       9455\n",
      "bathrooms_text                                     1\n",
      "bedrooms                                         769\n",
      "beds                                              52\n",
      "amenities                                          0\n",
      "price                                              0\n",
      "minimum_nights                                     0\n",
      "maximum_nights                                     0\n",
      "has_availability                                   0\n",
      "availability_30                                    0\n",
      "availability_60                                    0\n",
      "availability_90                                    0\n",
      "availability_365                                   0\n",
      "number_of_reviews                                  0\n",
      "number_of_reviews_ltm                              0\n",
      "number_of_reviews_l30d                             0\n",
      "first_review                                    2183\n",
      "last_review                                     2183\n",
      "review_scores_rating                            2235\n",
      "review_scores_accuracy                          2256\n",
      "review_scores_cleanliness                       2256\n",
      "review_scores_checkin                           2256\n",
      "review_scores_communication                     2256\n",
      "review_scores_location                          2256\n",
      "review_scores_value                             2257\n",
      "license                                         3108\n",
      "instant_bookable                                   0\n",
      "calculated_host_listings_count                     0\n",
      "calculated_host_listings_count_entire_homes        0\n",
      "calculated_host_listings_count_private_rooms       0\n",
      "calculated_host_listings_count_shared_rooms        0\n",
      "reviews_per_month                               2183\n",
      "dtype: int64 \n",
      "\n",
      "Number of rows affected:  26\n"
     ]
    }
   ],
   "source": [
    "print(\"List of Missing Values in Listings\\n\")\n",
    "print(listings.isna().sum(),\"\\n\")\n",
    "print(\"Number of rows affected: \", sum(listings.isna().sum() != 0))"
   ]
  },
  {
   "cell_type": "markdown",
   "metadata": {},
   "source": [
    "### Frequency Table of Listings per Neighborhood (Q4)"
   ]
  },
  {
   "cell_type": "code",
   "execution_count": 9,
   "metadata": {
    "scrolled": true
   },
   "outputs": [
    {
     "data": {
      "text/html": [
       "<div>\n",
       "<style scoped>\n",
       "    .dataframe tbody tr th:only-of-type {\n",
       "        vertical-align: middle;\n",
       "    }\n",
       "\n",
       "    .dataframe tbody tr th {\n",
       "        vertical-align: top;\n",
       "    }\n",
       "\n",
       "    .dataframe thead th {\n",
       "        text-align: right;\n",
       "    }\n",
       "</style>\n",
       "<table border=\"1\" class=\"dataframe\">\n",
       "  <thead>\n",
       "    <tr style=\"text-align: right;\">\n",
       "      <th></th>\n",
       "      <th>Number of Listings</th>\n",
       "    </tr>\n",
       "    <tr>\n",
       "      <th>Neighbourhoods</th>\n",
       "      <th></th>\n",
       "    </tr>\n",
       "  </thead>\n",
       "  <tbody>\n",
       "    <tr>\n",
       "      <th>1Ο ΝΕΚΡΟΤΑΦΕΙΟ</th>\n",
       "      <td>37</td>\n",
       "    </tr>\n",
       "    <tr>\n",
       "      <th>ΑΓΙΟΣ ΕΛΕΥΘΕΡΙΟΣ</th>\n",
       "      <td>23</td>\n",
       "    </tr>\n",
       "    <tr>\n",
       "      <th>ΑΓΙΟΣ ΚΩΝΣΤΑΝΤΙΝΟΣ-ΠΛΑΤΕΙΑ ΒΑΘΗΣ</th>\n",
       "      <td>581</td>\n",
       "    </tr>\n",
       "    <tr>\n",
       "      <th>ΑΓΙΟΣ ΝΙΚΟΛΑΟΣ</th>\n",
       "      <td>69</td>\n",
       "    </tr>\n",
       "    <tr>\n",
       "      <th>ΑΚΑΔΗΜΙΑ ΠΛΑΤΩΝΟΣ</th>\n",
       "      <td>61</td>\n",
       "    </tr>\n",
       "    <tr>\n",
       "      <th>ΑΚΡΟΠΟΛΗ</th>\n",
       "      <td>319</td>\n",
       "    </tr>\n",
       "    <tr>\n",
       "      <th>ΑΜΠΕΛΟΚΗΠΟΙ</th>\n",
       "      <td>292</td>\n",
       "    </tr>\n",
       "    <tr>\n",
       "      <th>ΑΝΩ ΚΥΨΕΛΗ</th>\n",
       "      <td>76</td>\n",
       "    </tr>\n",
       "    <tr>\n",
       "      <th>ΑΝΩ ΠΑΤΗΣΙΑ</th>\n",
       "      <td>69</td>\n",
       "    </tr>\n",
       "    <tr>\n",
       "      <th>ΒΟΤΑΝΙΚΟΣ</th>\n",
       "      <td>80</td>\n",
       "    </tr>\n",
       "    <tr>\n",
       "      <th>ΓΚΑΖΙ</th>\n",
       "      <td>80</td>\n",
       "    </tr>\n",
       "    <tr>\n",
       "      <th>ΓΚΥΖΗ</th>\n",
       "      <td>93</td>\n",
       "    </tr>\n",
       "    <tr>\n",
       "      <th>ΓΟΥΒΑ</th>\n",
       "      <td>49</td>\n",
       "    </tr>\n",
       "    <tr>\n",
       "      <th>ΓΟΥΔΙ</th>\n",
       "      <td>150</td>\n",
       "    </tr>\n",
       "    <tr>\n",
       "      <th>ΕΛΛΗΝΟΡΩΣΩΝ</th>\n",
       "      <td>42</td>\n",
       "    </tr>\n",
       "    <tr>\n",
       "      <th>ΕΜΠΟΡΙΚΟ ΤΡΙΓΩΝΟ-ΠΛΑΚΑ</th>\n",
       "      <td>1733</td>\n",
       "    </tr>\n",
       "    <tr>\n",
       "      <th>ΖΑΠΠΕΙΟ</th>\n",
       "      <td>141</td>\n",
       "    </tr>\n",
       "    <tr>\n",
       "      <th>ΘΗΣΕΙΟ</th>\n",
       "      <td>281</td>\n",
       "    </tr>\n",
       "    <tr>\n",
       "      <th>ΙΛΙΣΙΑ</th>\n",
       "      <td>174</td>\n",
       "    </tr>\n",
       "    <tr>\n",
       "      <th>ΚΕΡΑΜΕΙΚΟΣ</th>\n",
       "      <td>242</td>\n",
       "    </tr>\n",
       "    <tr>\n",
       "      <th>ΚΟΛΟΚΥΝΘΟΥ</th>\n",
       "      <td>14</td>\n",
       "    </tr>\n",
       "    <tr>\n",
       "      <th>ΚΟΛΩΝΑΚΙ</th>\n",
       "      <td>317</td>\n",
       "    </tr>\n",
       "    <tr>\n",
       "      <th>ΚΟΛΩΝΟΣ</th>\n",
       "      <td>80</td>\n",
       "    </tr>\n",
       "    <tr>\n",
       "      <th>ΚΟΥΚΑΚΙ-ΜΑΚΡΥΓΙΑΝΝΗ</th>\n",
       "      <td>820</td>\n",
       "    </tr>\n",
       "    <tr>\n",
       "      <th>ΚΥΨΕΛΗ</th>\n",
       "      <td>234</td>\n",
       "    </tr>\n",
       "    <tr>\n",
       "      <th>ΛΥΚΑΒΗΤΤΟΣ</th>\n",
       "      <td>137</td>\n",
       "    </tr>\n",
       "    <tr>\n",
       "      <th>ΜΟΥΣΕΙΟ-ΕΞΑΡΧΕΙΑ-ΝΕΑΠΟΛΗ</th>\n",
       "      <td>689</td>\n",
       "    </tr>\n",
       "    <tr>\n",
       "      <th>ΝΕΑ ΚΥΨΕΛΗ</th>\n",
       "      <td>51</td>\n",
       "    </tr>\n",
       "    <tr>\n",
       "      <th>ΝΕΟΣ ΚΟΣΜΟΣ</th>\n",
       "      <td>721</td>\n",
       "    </tr>\n",
       "    <tr>\n",
       "      <th>ΝΙΡΒΑΝΑ</th>\n",
       "      <td>93</td>\n",
       "    </tr>\n",
       "    <tr>\n",
       "      <th>ΠΑΓΚΡΑΤΙ</th>\n",
       "      <td>409</td>\n",
       "    </tr>\n",
       "    <tr>\n",
       "      <th>ΠΑΤΗΣΙΑ</th>\n",
       "      <td>117</td>\n",
       "    </tr>\n",
       "    <tr>\n",
       "      <th>ΠΕΔΙΟ ΑΡΕΩΣ</th>\n",
       "      <td>85</td>\n",
       "    </tr>\n",
       "    <tr>\n",
       "      <th>ΠΕΝΤΑΓΩΝΟ</th>\n",
       "      <td>4</td>\n",
       "    </tr>\n",
       "    <tr>\n",
       "      <th>ΠΕΤΡΑΛΩΝΑ</th>\n",
       "      <td>230</td>\n",
       "    </tr>\n",
       "    <tr>\n",
       "      <th>ΠΛΑΤΕΙΑ ΑΜΕΡΙΚΗΣ</th>\n",
       "      <td>122</td>\n",
       "    </tr>\n",
       "    <tr>\n",
       "      <th>ΠΛΑΤΕΙΑ ΑΤΤΙΚΗΣ</th>\n",
       "      <td>405</td>\n",
       "    </tr>\n",
       "    <tr>\n",
       "      <th>ΠΟΛΥΓΩΝΟ</th>\n",
       "      <td>25</td>\n",
       "    </tr>\n",
       "    <tr>\n",
       "      <th>ΠΡΟΜΠΟΝΑ</th>\n",
       "      <td>9</td>\n",
       "    </tr>\n",
       "    <tr>\n",
       "      <th>ΡΗΓΙΛΛΗΣ</th>\n",
       "      <td>11</td>\n",
       "    </tr>\n",
       "    <tr>\n",
       "      <th>ΡΙΖΟΥΠΟΛΗ</th>\n",
       "      <td>12</td>\n",
       "    </tr>\n",
       "    <tr>\n",
       "      <th>ΣΕΠΟΛΙΑ</th>\n",
       "      <td>18</td>\n",
       "    </tr>\n",
       "    <tr>\n",
       "      <th>ΣΤΑΔΙΟ</th>\n",
       "      <td>176</td>\n",
       "    </tr>\n",
       "    <tr>\n",
       "      <th>ΣΤΑΘΜΟΣ ΛΑΡΙΣΗΣ</th>\n",
       "      <td>84</td>\n",
       "    </tr>\n",
       "  </tbody>\n",
       "</table>\n",
       "</div>"
      ],
      "text/plain": [
       "                                  Number of Listings\n",
       "Neighbourhoods                                      \n",
       "1Ο ΝΕΚΡΟΤΑΦΕΙΟ                                    37\n",
       "ΑΓΙΟΣ ΕΛΕΥΘΕΡΙΟΣ                                  23\n",
       "ΑΓΙΟΣ ΚΩΝΣΤΑΝΤΙΝΟΣ-ΠΛΑΤΕΙΑ ΒΑΘΗΣ                 581\n",
       "ΑΓΙΟΣ ΝΙΚΟΛΑΟΣ                                    69\n",
       "ΑΚΑΔΗΜΙΑ ΠΛΑΤΩΝΟΣ                                 61\n",
       "ΑΚΡΟΠΟΛΗ                                         319\n",
       "ΑΜΠΕΛΟΚΗΠΟΙ                                      292\n",
       "ΑΝΩ ΚΥΨΕΛΗ                                        76\n",
       "ΑΝΩ ΠΑΤΗΣΙΑ                                       69\n",
       "ΒΟΤΑΝΙΚΟΣ                                         80\n",
       "ΓΚΑΖΙ                                             80\n",
       "ΓΚΥΖΗ                                             93\n",
       "ΓΟΥΒΑ                                             49\n",
       "ΓΟΥΔΙ                                            150\n",
       "ΕΛΛΗΝΟΡΩΣΩΝ                                       42\n",
       "ΕΜΠΟΡΙΚΟ ΤΡΙΓΩΝΟ-ΠΛΑΚΑ                          1733\n",
       "ΖΑΠΠΕΙΟ                                          141\n",
       "ΘΗΣΕΙΟ                                           281\n",
       "ΙΛΙΣΙΑ                                           174\n",
       "ΚΕΡΑΜΕΙΚΟΣ                                       242\n",
       "ΚΟΛΟΚΥΝΘΟΥ                                        14\n",
       "ΚΟΛΩΝΑΚΙ                                         317\n",
       "ΚΟΛΩΝΟΣ                                           80\n",
       "ΚΟΥΚΑΚΙ-ΜΑΚΡΥΓΙΑΝΝΗ                              820\n",
       "ΚΥΨΕΛΗ                                           234\n",
       "ΛΥΚΑΒΗΤΤΟΣ                                       137\n",
       "ΜΟΥΣΕΙΟ-ΕΞΑΡΧΕΙΑ-ΝΕΑΠΟΛΗ                         689\n",
       "ΝΕΑ ΚΥΨΕΛΗ                                        51\n",
       "ΝΕΟΣ ΚΟΣΜΟΣ                                      721\n",
       "ΝΙΡΒΑΝΑ                                           93\n",
       "ΠΑΓΚΡΑΤΙ                                         409\n",
       "ΠΑΤΗΣΙΑ                                          117\n",
       "ΠΕΔΙΟ ΑΡΕΩΣ                                       85\n",
       "ΠΕΝΤΑΓΩΝΟ                                          4\n",
       "ΠΕΤΡΑΛΩΝΑ                                        230\n",
       "ΠΛΑΤΕΙΑ ΑΜΕΡΙΚΗΣ                                 122\n",
       "ΠΛΑΤΕΙΑ ΑΤΤΙΚΗΣ                                  405\n",
       "ΠΟΛΥΓΩΝΟ                                          25\n",
       "ΠΡΟΜΠΟΝΑ                                           9\n",
       "ΡΗΓΙΛΛΗΣ                                          11\n",
       "ΡΙΖΟΥΠΟΛΗ                                         12\n",
       "ΣΕΠΟΛΙΑ                                           18\n",
       "ΣΤΑΔΙΟ                                           176\n",
       "ΣΤΑΘΜΟΣ ΛΑΡΙΣΗΣ                                   84"
      ]
     },
     "metadata": {},
     "output_type": "display_data"
    }
   ],
   "source": [
    "listings_per_neig = listings[[\"id\",\"neighbourhood_cleansed\"]].groupby(['neighbourhood_cleansed']).count()\n",
    "listings_per_neig.rename(columns = {\"id\":\"Number of Listings\"},inplace = True)\n",
    "listings_per_neig.index.name = \"Neighbourhoods\"\n",
    "display(listings_per_neig)"
   ]
  },
  {
   "cell_type": "markdown",
   "metadata": {},
   "source": [
    "### Listings Per Room Type (Q5)"
   ]
  },
  {
   "cell_type": "code",
   "execution_count": 10,
   "metadata": {},
   "outputs": [
    {
     "data": {
      "text/html": [
       "<div>\n",
       "<style scoped>\n",
       "    .dataframe tbody tr th:only-of-type {\n",
       "        vertical-align: middle;\n",
       "    }\n",
       "\n",
       "    .dataframe tbody tr th {\n",
       "        vertical-align: top;\n",
       "    }\n",
       "\n",
       "    .dataframe thead th {\n",
       "        text-align: right;\n",
       "    }\n",
       "</style>\n",
       "<table border=\"1\" class=\"dataframe\">\n",
       "  <thead>\n",
       "    <tr style=\"text-align: right;\">\n",
       "      <th></th>\n",
       "      <th>Number of Listings</th>\n",
       "    </tr>\n",
       "    <tr>\n",
       "      <th>Room Type</th>\n",
       "      <th></th>\n",
       "    </tr>\n",
       "  </thead>\n",
       "  <tbody>\n",
       "    <tr>\n",
       "      <th>Entire home/apt</th>\n",
       "      <td>8270</td>\n",
       "    </tr>\n",
       "    <tr>\n",
       "      <th>Hotel room</th>\n",
       "      <td>179</td>\n",
       "    </tr>\n",
       "    <tr>\n",
       "      <th>Private room</th>\n",
       "      <td>932</td>\n",
       "    </tr>\n",
       "    <tr>\n",
       "      <th>Shared room</th>\n",
       "      <td>74</td>\n",
       "    </tr>\n",
       "  </tbody>\n",
       "</table>\n",
       "</div>"
      ],
      "text/plain": [
       "                 Number of Listings\n",
       "Room Type                          \n",
       "Entire home/apt                8270\n",
       "Hotel room                      179\n",
       "Private room                    932\n",
       "Shared room                      74"
      ]
     },
     "metadata": {},
     "output_type": "display_data"
    }
   ],
   "source": [
    "listings_per_neig = listings[[\"id\",\"room_type\"]].groupby(['room_type']).count()\n",
    "listings_per_neig.rename(columns = {\"id\":\"Number of Listings\"},inplace = True)\n",
    "listings_per_neig.index.name = \"Room Type\"\n",
    "display(listings_per_neig)"
   ]
  },
  {
   "cell_type": "markdown",
   "metadata": {},
   "source": [
    "### Listings per room number (Q6)\n",
    " * In case where each room number corresponds to each unique listing id we obtain 1 listing per room number."
   ]
  },
  {
   "cell_type": "markdown",
   "metadata": {},
   "source": [
    " ### Distribution of Listings Per Host (Q7)"
   ]
  },
  {
   "cell_type": "code",
   "execution_count": 11,
   "metadata": {},
   "outputs": [
    {
     "data": {
      "text/plain": [
       "<matplotlib.legend.Legend at 0x2455abdad00>"
      ]
     },
     "execution_count": 11,
     "metadata": {},
     "output_type": "execute_result"
    },
    {
     "data": {
      "image/png": "[encoded data removed]",
      "text/plain": [
       "<Figure size 432x288 with 1 Axes>"
      ]
     },
     "metadata": {
      "needs_background": "light"
     },
     "output_type": "display_data"
    }
   ],
   "source": [
    "listings_per_host = listings[[\"id\",\"host_id\"]].groupby(['host_id']).count()\n",
    "listings_per_host.sort_values(by = \"id\", ascending=False).iloc[:20,].plot.bar(rot= 45)\n",
    "plt.ylabel(\"Frequencies\")\n",
    "plt.xlabel(\"Host Ids\")\n",
    "plt.title(\"Top 20 Listings Frequencies per Host\")\n",
    "plt.legend([\"Listing Ids\"])"
   ]
  },
  {
   "cell_type": "markdown",
   "metadata": {},
   "source": [
    "### Most Listings that correspond to one host (Q8)\n"
   ]
  },
  {
   "cell_type": "code",
   "execution_count": 12,
   "metadata": {},
   "outputs": [
    {
     "name": "stdout",
     "output_type": "stream",
     "text": [
      " The maximum number of listings that correspond to  29927830  host id  is  101\n"
     ]
    }
   ],
   "source": [
    "most_listings = listings_per_host.max()\n",
    "print(\" The maximum number of listings that correspond to \"\n",
    "      , listings_per_host[listings_per_host[\"id\"] == most_listings[\"id\"]].index[0]\n",
    "      , \" host id  is \", listings_per_host.max()[\"id\"])\n"
   ]
  },
  {
   "cell_type": "markdown",
   "metadata": {},
   "source": [
    "### First Host Registered (Q9)\n"
   ]
  },
  {
   "cell_type": "code",
   "execution_count": 13,
   "metadata": {},
   "outputs": [
    {
     "name": "stdout",
     "output_type": "stream",
     "text": [
      "The first registered host with id  37177 joined at  2009-09-08\n"
     ]
    }
   ],
   "source": [
    "first_registration_data = listings[\"host_since\"].sort_values(ascending=True).iloc[0]\n",
    "print(\"The first registered host with id \",listings[listings[\"host_since\"] ==first_registration_data].iloc[0,:][\"host_id\"]\n",
    "      ,\"joined at \",first_registration_data)\n",
    "#t.apply(lambda row : row[0]) \n",
    "#listings[\"host_since\"].apply(lambda row: row[1])\n"
   ]
  },
  {
   "cell_type": "markdown",
   "metadata": {},
   "source": [
    "### Range of the Celendar (Q10)\n"
   ]
  },
  {
   "cell_type": "code",
   "execution_count": 14,
   "metadata": {},
   "outputs": [
    {
     "name": "stdout",
     "output_type": "stream",
     "text": [
      "The dates of celendar starts at 2020-10-25  and finished at  2021-10-25\n"
     ]
    }
   ],
   "source": [
    " print(\"The dates of celendar starts at\", calendar[\"date\"].min(),\" and finished at \", calendar[\"date\"].max())"
   ]
  },
  {
   "cell_type": "markdown",
   "metadata": {},
   "source": [
    "### Year in Which Most Hosts Registered (Q11)"
   ]
  },
  {
   "cell_type": "code",
   "execution_count": 15,
   "metadata": {},
   "outputs": [
    {
     "data": {
      "text/html": [
       "<style  type=\"text/css\" >\n",
       "#T_2225d560_4a09_11eb_8937_1cb72cb019b6row9_col0{\n",
       "            background-color:  yellow;\n",
       "        }</style><table id=\"T_2225d560_4a09_11eb_8937_1cb72cb019b6\" ><thead>    <tr>        <th class=\"blank level0\" ></th>        <th class=\"col_heading level0 col0\" >Number of Unique Host Ids</th>    </tr>    <tr>        <th class=\"index_name level0\" >Registration Year</th>        <th class=\"blank\" ></th>    </tr></thead><tbody>\n",
       "                <tr>\n",
       "                        <th id=\"T_2225d560_4a09_11eb_8937_1cb72cb019b6level0_row0\" class=\"row_heading level0 row0\" >2009</th>\n",
       "                        <td id=\"T_2225d560_4a09_11eb_8937_1cb72cb019b6row0_col0\" class=\"data row0 col0\" >2</td>\n",
       "            </tr>\n",
       "            <tr>\n",
       "                        <th id=\"T_2225d560_4a09_11eb_8937_1cb72cb019b6level0_row1\" class=\"row_heading level0 row1\" >2010</th>\n",
       "                        <td id=\"T_2225d560_4a09_11eb_8937_1cb72cb019b6row1_col0\" class=\"data row1 col0\" >20</td>\n",
       "            </tr>\n",
       "            <tr>\n",
       "                        <th id=\"T_2225d560_4a09_11eb_8937_1cb72cb019b6level0_row2\" class=\"row_heading level0 row2\" >2011</th>\n",
       "                        <td id=\"T_2225d560_4a09_11eb_8937_1cb72cb019b6row2_col0\" class=\"data row2 col0\" >81</td>\n",
       "            </tr>\n",
       "            <tr>\n",
       "                        <th id=\"T_2225d560_4a09_11eb_8937_1cb72cb019b6level0_row3\" class=\"row_heading level0 row3\" >2012</th>\n",
       "                        <td id=\"T_2225d560_4a09_11eb_8937_1cb72cb019b6row3_col0\" class=\"data row3 col0\" >128</td>\n",
       "            </tr>\n",
       "            <tr>\n",
       "                        <th id=\"T_2225d560_4a09_11eb_8937_1cb72cb019b6level0_row4\" class=\"row_heading level0 row4\" >2013</th>\n",
       "                        <td id=\"T_2225d560_4a09_11eb_8937_1cb72cb019b6row4_col0\" class=\"data row4 col0\" >214</td>\n",
       "            </tr>\n",
       "            <tr>\n",
       "                        <th id=\"T_2225d560_4a09_11eb_8937_1cb72cb019b6level0_row5\" class=\"row_heading level0 row5\" >2014</th>\n",
       "                        <td id=\"T_2225d560_4a09_11eb_8937_1cb72cb019b6row5_col0\" class=\"data row5 col0\" >375</td>\n",
       "            </tr>\n",
       "            <tr>\n",
       "                        <th id=\"T_2225d560_4a09_11eb_8937_1cb72cb019b6level0_row6\" class=\"row_heading level0 row6\" >2015</th>\n",
       "                        <td id=\"T_2225d560_4a09_11eb_8937_1cb72cb019b6row6_col0\" class=\"data row6 col0\" >556</td>\n",
       "            </tr>\n",
       "            <tr>\n",
       "                        <th id=\"T_2225d560_4a09_11eb_8937_1cb72cb019b6level0_row7\" class=\"row_heading level0 row7\" >2016</th>\n",
       "                        <td id=\"T_2225d560_4a09_11eb_8937_1cb72cb019b6row7_col0\" class=\"data row7 col0\" >826</td>\n",
       "            </tr>\n",
       "            <tr>\n",
       "                        <th id=\"T_2225d560_4a09_11eb_8937_1cb72cb019b6level0_row8\" class=\"row_heading level0 row8\" >2017</th>\n",
       "                        <td id=\"T_2225d560_4a09_11eb_8937_1cb72cb019b6row8_col0\" class=\"data row8 col0\" >700</td>\n",
       "            </tr>\n",
       "            <tr>\n",
       "                        <th id=\"T_2225d560_4a09_11eb_8937_1cb72cb019b6level0_row9\" class=\"row_heading level0 row9\" >2018</th>\n",
       "                        <td id=\"T_2225d560_4a09_11eb_8937_1cb72cb019b6row9_col0\" class=\"data row9 col0\" >1023</td>\n",
       "            </tr>\n",
       "            <tr>\n",
       "                        <th id=\"T_2225d560_4a09_11eb_8937_1cb72cb019b6level0_row10\" class=\"row_heading level0 row10\" >2019</th>\n",
       "                        <td id=\"T_2225d560_4a09_11eb_8937_1cb72cb019b6row10_col0\" class=\"data row10 col0\" >802</td>\n",
       "            </tr>\n",
       "            <tr>\n",
       "                        <th id=\"T_2225d560_4a09_11eb_8937_1cb72cb019b6level0_row11\" class=\"row_heading level0 row11\" >2020</th>\n",
       "                        <td id=\"T_2225d560_4a09_11eb_8937_1cb72cb019b6row11_col0\" class=\"data row11 col0\" >264</td>\n",
       "            </tr>\n",
       "    </tbody></table>"
      ],
      "text/plain": [
       "<pandas.io.formats.style.Styler at 0x24547ec60a0>"
      ]
     },
     "metadata": {},
     "output_type": "display_data"
    },
    {
     "name": "stdout",
     "output_type": "stream",
     "text": [
      "From the below table we easily can observe that in 2018 most hosts registered\n"
     ]
    }
   ],
   "source": [
    "listings[\"host_since_year\"] = listings[\"host_since\"][listings[\"host_since\"].isna() == False].apply(lambda x: x.split(\"-\")[0])\n",
    "\n",
    "hosts_per_registration_year = listings[[\"host_id\", \"host_since_year\"]].groupby(['host_since_year']).nunique()\n",
    "hosts_per_registration_year.rename(columns = {\"host_id\":\"Number of Unique Host Ids\"},  inplace = True)\n",
    "hosts_per_registration_year.index.name = \"Registration Year\"\n",
    "display(hosts_per_registration_year.style.highlight_max(color = 'yellow', axis = 0))\n",
    "print(\"From the below table we easily can observe that in 2018 most hosts registered\")"
   ]
  },
  {
   "cell_type": "markdown",
   "metadata": {},
   "source": [
    "### Distribution of Bookings per Month (Q11)\n"
   ]
  },
  {
   "cell_type": "code",
   "execution_count": 16,
   "metadata": {},
   "outputs": [
    {
     "data": {
      "text/plain": [
       "<matplotlib.legend.Legend at 0x2455ad50820>"
      ]
     },
     "execution_count": 16,
     "metadata": {},
     "output_type": "execute_result"
    },
    {
     "data": {
      "image/png": "[encoded data removed]",
      "text/plain": [
       "<Figure size 432x288 with 1 Axes>"
      ]
     },
     "metadata": {
      "needs_background": "light"
     },
     "output_type": "display_data"
    }
   ],
   "source": [
    "calendar[\"month_periods\"] = calendar[\"date\"].apply(lambda x: x[:7])\n",
    "\n",
    "bookings_per_month_listing_id = calendar[[\"month_periods\",\"listing_id\"]].groupby([\"month_periods\",\"listing_id\"]).agg({'listing_id': 'count'})\n",
    "\n",
    "bookings_per_month_listing_id = bookings_per_month_listing_id.groupby(level=0).apply(lambda x:\n",
    "                                                 100 * x / float(x.sum()))\n",
    "\n",
    "bookings_per_month =  calendar[[\"month_periods\",\"listing_id\"]].groupby([\"month_periods\"]).count()\n",
    "bookings_per_month = bookings_per_month.apply(lambda x: 100 * x / float(bookings_per_month.sum()))\n",
    "bookings_per_month.rename(columns = {\"listing_id\":\"Percentage of Bookings\"}, inplace = True)\n",
    "bookings_per_month.index.name = \"Month Periods\"\n",
    "\n",
    "bookings_per_month.plot.bar(rot = 45)\n",
    "plt.ylabel(\"Frequencies (%)\")\n",
    "plt.title(\"Frequencies in Percentage of Bookings per Month\")\n",
    "plt.legend(loc='best', bbox_to_anchor=(1, 0.5))"
   ]
  },
  {
   "cell_type": "markdown",
   "metadata": {},
   "source": [
    "### Period with the Biggest Percentage of Bookings"
   ]
  },
  {
   "cell_type": "code",
   "execution_count": 17,
   "metadata": {},
   "outputs": [
    {
     "data": {
      "text/html": [
       "<style  type=\"text/css\" >\n",
       "#T_22c09f52_4a09_11eb_a793_1cb72cb019b6row2_col0,#T_22c09f52_4a09_11eb_a793_1cb72cb019b6row3_col0{\n",
       "            background-color:  yellow;\n",
       "        }</style><table id=\"T_22c09f52_4a09_11eb_a793_1cb72cb019b6\" ><thead>    <tr>        <th class=\"blank level0\" ></th>        <th class=\"col_heading level0 col0\" >Percentage of Bookings</th>    </tr>    <tr>        <th class=\"index_name level0\" >Month Periods</th>        <th class=\"blank\" ></th>    </tr></thead><tbody>\n",
       "                <tr>\n",
       "                        <th id=\"T_22c09f52_4a09_11eb_a793_1cb72cb019b6level0_row0\" class=\"row_heading level0 row0\" >2020-10</th>\n",
       "                        <td id=\"T_22c09f52_4a09_11eb_a793_1cb72cb019b6row0_col0\" class=\"data row0 col0\" >1.882746</td>\n",
       "            </tr>\n",
       "            <tr>\n",
       "                        <th id=\"T_22c09f52_4a09_11eb_a793_1cb72cb019b6level0_row1\" class=\"row_heading level0 row1\" >2020-11</th>\n",
       "                        <td id=\"T_22c09f52_4a09_11eb_a793_1cb72cb019b6row1_col0\" class=\"data row1 col0\" >8.222588</td>\n",
       "            </tr>\n",
       "            <tr>\n",
       "                        <th id=\"T_22c09f52_4a09_11eb_a793_1cb72cb019b6level0_row2\" class=\"row_heading level0 row2\" >2020-12</th>\n",
       "                        <td id=\"T_22c09f52_4a09_11eb_a793_1cb72cb019b6row2_col0\" class=\"data row2 col0\" >8.496674</td>\n",
       "            </tr>\n",
       "            <tr>\n",
       "                        <th id=\"T_22c09f52_4a09_11eb_a793_1cb72cb019b6level0_row3\" class=\"row_heading level0 row3\" >2021-01</th>\n",
       "                        <td id=\"T_22c09f52_4a09_11eb_a793_1cb72cb019b6row3_col0\" class=\"data row3 col0\" >8.496674</td>\n",
       "            </tr>\n",
       "            <tr>\n",
       "                        <th id=\"T_22c09f52_4a09_11eb_a793_1cb72cb019b6level0_row4\" class=\"row_heading level0 row4\" >2021-02</th>\n",
       "                        <td id=\"T_22c09f52_4a09_11eb_a793_1cb72cb019b6row4_col0\" class=\"data row4 col0\" >7.674415</td>\n",
       "            </tr>\n",
       "            <tr>\n",
       "                        <th id=\"T_22c09f52_4a09_11eb_a793_1cb72cb019b6level0_row5\" class=\"row_heading level0 row5\" >2021-03</th>\n",
       "                        <td id=\"T_22c09f52_4a09_11eb_a793_1cb72cb019b6row5_col0\" class=\"data row5 col0\" >8.494576</td>\n",
       "            </tr>\n",
       "            <tr>\n",
       "                        <th id=\"T_22c09f52_4a09_11eb_a793_1cb72cb019b6level0_row6\" class=\"row_heading level0 row6\" >2021-04</th>\n",
       "                        <td id=\"T_22c09f52_4a09_11eb_a793_1cb72cb019b6row6_col0\" class=\"data row6 col0\" >8.219727</td>\n",
       "            </tr>\n",
       "            <tr>\n",
       "                        <th id=\"T_22c09f52_4a09_11eb_a793_1cb72cb019b6level0_row7\" class=\"row_heading level0 row7\" >2021-05</th>\n",
       "                        <td id=\"T_22c09f52_4a09_11eb_a793_1cb72cb019b6row7_col0\" class=\"data row7 col0\" >8.493718</td>\n",
       "            </tr>\n",
       "            <tr>\n",
       "                        <th id=\"T_22c09f52_4a09_11eb_a793_1cb72cb019b6level0_row8\" class=\"row_heading level0 row8\" >2021-06</th>\n",
       "                        <td id=\"T_22c09f52_4a09_11eb_a793_1cb72cb019b6row8_col0\" class=\"data row8 col0\" >8.214958</td>\n",
       "            </tr>\n",
       "            <tr>\n",
       "                        <th id=\"T_22c09f52_4a09_11eb_a793_1cb72cb019b6level0_row9\" class=\"row_heading level0 row9\" >2021-07</th>\n",
       "                        <td id=\"T_22c09f52_4a09_11eb_a793_1cb72cb019b6row9_col0\" class=\"data row9 col0\" >8.487805</td>\n",
       "            </tr>\n",
       "            <tr>\n",
       "                        <th id=\"T_22c09f52_4a09_11eb_a793_1cb72cb019b6level0_row10\" class=\"row_heading level0 row10\" >2021-08</th>\n",
       "                        <td id=\"T_22c09f52_4a09_11eb_a793_1cb72cb019b6row10_col0\" class=\"data row10 col0\" >8.487805</td>\n",
       "            </tr>\n",
       "            <tr>\n",
       "                        <th id=\"T_22c09f52_4a09_11eb_a793_1cb72cb019b6level0_row11\" class=\"row_heading level0 row11\" >2021-09</th>\n",
       "                        <td id=\"T_22c09f52_4a09_11eb_a793_1cb72cb019b6row11_col0\" class=\"data row11 col0\" >8.214005</td>\n",
       "            </tr>\n",
       "            <tr>\n",
       "                        <th id=\"T_22c09f52_4a09_11eb_a793_1cb72cb019b6level0_row12\" class=\"row_heading level0 row12\" >2021-10</th>\n",
       "                        <td id=\"T_22c09f52_4a09_11eb_a793_1cb72cb019b6row12_col0\" class=\"data row12 col0\" >6.614310</td>\n",
       "            </tr>\n",
       "    </tbody></table>"
      ],
      "text/plain": [
       "<pandas.io.formats.style.Styler at 0x2455c04d8e0>"
      ]
     },
     "metadata": {},
     "output_type": "display_data"
    },
    {
     "name": "stdout",
     "output_type": "stream",
     "text": [
      "From the below table we easily can observe that at 12 of 2020 and 01 of 2021 the booking reach the peak\n"
     ]
    }
   ],
   "source": [
    "display(bookings_per_month.style.highlight_max(color = 'yellow', axis = 0))\n",
    "print(\"From the below table we easily can observe that at 12 of 2020 and 01 of 2021 the booking reach the peak\")"
   ]
  },
  {
   "cell_type": "markdown",
   "metadata": {},
   "source": [
    "### Period With the Highest  Booking Pricing (Q12)"
   ]
  },
  {
   "cell_type": "code",
   "execution_count": 18,
   "metadata": {},
   "outputs": [
    {
     "data": {
      "text/html": [
       "<style  type=\"text/css\" >\n",
       "#T_2361a7b9_4a09_11eb_a0a1_1cb72cb019b6row12_col0{\n",
       "            background-color:  yellow;\n",
       "        }</style><table id=\"T_2361a7b9_4a09_11eb_a0a1_1cb72cb019b6\" ><thead>    <tr>        <th class=\"blank level0\" ></th>        <th class=\"col_heading level0 col0\" >price_number</th>    </tr>    <tr>        <th class=\"index_name level0\" >month_periods</th>        <th class=\"blank\" ></th>    </tr></thead><tbody>\n",
       "                <tr>\n",
       "                        <th id=\"T_2361a7b9_4a09_11eb_a0a1_1cb72cb019b6level0_row0\" class=\"row_heading level0 row0\" >2020-10</th>\n",
       "                        <td id=\"T_2361a7b9_4a09_11eb_a0a1_1cb72cb019b6row0_col0\" class=\"data row0 col0\" >73.409533</td>\n",
       "            </tr>\n",
       "            <tr>\n",
       "                        <th id=\"T_2361a7b9_4a09_11eb_a0a1_1cb72cb019b6level0_row1\" class=\"row_heading level0 row1\" >2020-11</th>\n",
       "                        <td id=\"T_2361a7b9_4a09_11eb_a0a1_1cb72cb019b6row1_col0\" class=\"data row1 col0\" >73.384424</td>\n",
       "            </tr>\n",
       "            <tr>\n",
       "                        <th id=\"T_2361a7b9_4a09_11eb_a0a1_1cb72cb019b6level0_row2\" class=\"row_heading level0 row2\" >2020-12</th>\n",
       "                        <td id=\"T_2361a7b9_4a09_11eb_a0a1_1cb72cb019b6row2_col0\" class=\"data row2 col0\" >75.538128</td>\n",
       "            </tr>\n",
       "            <tr>\n",
       "                        <th id=\"T_2361a7b9_4a09_11eb_a0a1_1cb72cb019b6level0_row3\" class=\"row_heading level0 row3\" >2021-01</th>\n",
       "                        <td id=\"T_2361a7b9_4a09_11eb_a0a1_1cb72cb019b6row3_col0\" class=\"data row3 col0\" >86.674063</td>\n",
       "            </tr>\n",
       "            <tr>\n",
       "                        <th id=\"T_2361a7b9_4a09_11eb_a0a1_1cb72cb019b6level0_row4\" class=\"row_heading level0 row4\" >2021-02</th>\n",
       "                        <td id=\"T_2361a7b9_4a09_11eb_a0a1_1cb72cb019b6row4_col0\" class=\"data row4 col0\" >86.735361</td>\n",
       "            </tr>\n",
       "            <tr>\n",
       "                        <th id=\"T_2361a7b9_4a09_11eb_a0a1_1cb72cb019b6level0_row5\" class=\"row_heading level0 row5\" >2021-03</th>\n",
       "                        <td id=\"T_2361a7b9_4a09_11eb_a0a1_1cb72cb019b6row5_col0\" class=\"data row5 col0\" >91.184211</td>\n",
       "            </tr>\n",
       "            <tr>\n",
       "                        <th id=\"T_2361a7b9_4a09_11eb_a0a1_1cb72cb019b6level0_row6\" class=\"row_heading level0 row6\" >2021-04</th>\n",
       "                        <td id=\"T_2361a7b9_4a09_11eb_a0a1_1cb72cb019b6row6_col0\" class=\"data row6 col0\" >95.761829</td>\n",
       "            </tr>\n",
       "            <tr>\n",
       "                        <th id=\"T_2361a7b9_4a09_11eb_a0a1_1cb72cb019b6level0_row7\" class=\"row_heading level0 row7\" >2021-05</th>\n",
       "                        <td id=\"T_2361a7b9_4a09_11eb_a0a1_1cb72cb019b6row7_col0\" class=\"data row7 col0\" >108.041128</td>\n",
       "            </tr>\n",
       "            <tr>\n",
       "                        <th id=\"T_2361a7b9_4a09_11eb_a0a1_1cb72cb019b6level0_row8\" class=\"row_heading level0 row8\" >2021-06</th>\n",
       "                        <td id=\"T_2361a7b9_4a09_11eb_a0a1_1cb72cb019b6row8_col0\" class=\"data row8 col0\" >98.559299</td>\n",
       "            </tr>\n",
       "            <tr>\n",
       "                        <th id=\"T_2361a7b9_4a09_11eb_a0a1_1cb72cb019b6level0_row9\" class=\"row_heading level0 row9\" >2021-07</th>\n",
       "                        <td id=\"T_2361a7b9_4a09_11eb_a0a1_1cb72cb019b6row9_col0\" class=\"data row9 col0\" >115.308277</td>\n",
       "            </tr>\n",
       "            <tr>\n",
       "                        <th id=\"T_2361a7b9_4a09_11eb_a0a1_1cb72cb019b6level0_row10\" class=\"row_heading level0 row10\" >2021-08</th>\n",
       "                        <td id=\"T_2361a7b9_4a09_11eb_a0a1_1cb72cb019b6row10_col0\" class=\"data row10 col0\" >117.531455</td>\n",
       "            </tr>\n",
       "            <tr>\n",
       "                        <th id=\"T_2361a7b9_4a09_11eb_a0a1_1cb72cb019b6level0_row11\" class=\"row_heading level0 row11\" >2021-09</th>\n",
       "                        <td id=\"T_2361a7b9_4a09_11eb_a0a1_1cb72cb019b6row11_col0\" class=\"data row11 col0\" >122.980355</td>\n",
       "            </tr>\n",
       "            <tr>\n",
       "                        <th id=\"T_2361a7b9_4a09_11eb_a0a1_1cb72cb019b6level0_row12\" class=\"row_heading level0 row12\" >2021-10</th>\n",
       "                        <td id=\"T_2361a7b9_4a09_11eb_a0a1_1cb72cb019b6row12_col0\" class=\"data row12 col0\" >124.453847</td>\n",
       "            </tr>\n",
       "    </tbody></table>"
      ],
      "text/plain": [
       "<pandas.io.formats.style.Styler at 0x2455ad7f1f0>"
      ]
     },
     "metadata": {},
     "output_type": "display_data"
    },
    {
     "name": "stdout",
     "output_type": "stream",
     "text": [
      "From the below table we easily can observe that in 10 of 2021 we obtain the highest booking pricing on average\n"
     ]
    }
   ],
   "source": [
    "#calendar[[\"price\",\"month_periods\"]].groupby(['month_periods']).agg(lambda x: x.mean())\n",
    "calendar[\"price_number\"] = calendar[\"price\"].apply(lambda x: float(x[1:].replace(\",\",\"\")))\n",
    "avg_price_per_period = calendar[[\"price_number\",\"month_periods\"]].groupby(['month_periods']).agg(lambda x: x.mean())\n",
    "\n",
    "display(avg_price_per_period.style.highlight_max(color = 'yellow', axis = 0))\n",
    "print(\"From the below table we easily can observe that in 10 of 2021 we obtain the highest booking pricing on average\")"
   ]
  },
  {
   "cell_type": "markdown",
   "metadata": {},
   "source": [
    "### Percentage of Identified Hosts (Q13)"
   ]
  },
  {
   "cell_type": "code",
   "execution_count": 19,
   "metadata": {
    "scrolled": true
   },
   "outputs": [
    {
     "name": "stdout",
     "output_type": "stream",
     "text": [
      "The number of Identified Host is  4991\n",
      "The percentage of Identified Hosts is  99.91991991991992\n"
     ]
    }
   ],
   "source": [
    "host_ids_cor_nan_names = listings[listings[\"host_name\"].isna() == False][\"host_id\"].unique()\n",
    "host_id_name_mapping = listings[[\"host_id\",\"host_name\"]].groupby(\"host_id\").agg([\"unique\"])\n",
    "indentified_host = host_id_name_mapping.loc[host_ids_cor_nan_names,:].count()\n",
    "print(\"The number of Identified Host is \",indentified_host.iloc[0])\n",
    "print(\"The percentage of Identified Hosts is \",100* indentified_host.iloc[0]/host_id_name_mapping.count().iloc[0])\n"
   ]
  },
  {
   "cell_type": "markdown",
   "metadata": {},
   "source": [
    "### Top 10 Most Common Ammenties (Q14)"
   ]
  },
  {
   "cell_type": "code",
   "execution_count": 20,
   "metadata": {},
   "outputs": [
    {
     "name": "stdout",
     "output_type": "stream",
     "text": [
      "The top 10 common amenities provided by the majority of the host are the following \n",
      ": ('\"Air conditioning\"', '\"Elevator\"', '\"Essentials\"', '\"Hair dryer\"', '\"Hangers\"', '\"Heating\"', '\"Iron\"', '\"Kitchen\"', '\"Laptop-friendly workspace\"', '\"Shampoo\"', '\"TV\"', '\"Washer\"', '\"Wifi\"')\n"
     ]
    }
   ],
   "source": [
    "listings[\"amenities_list\"] = listings[\"amenities\"].apply(lambda list_: tuple(sorted(list_.replace(\"[\",\"\").replace(\"]\",\"\").replace(\"'\",\"\").split(\", \"))))\n",
    "common_amentities = listings[[\"host_id\",\"amenities_list\"]].groupby(\"amenities_list\").nunique()\n",
    "common_amentities = common_amentities[common_amentities.index.map(len) > 1]\n",
    "common_amentities['host_id'].sort_values(ascending=False).index[0]\n",
    "\n",
    "print('The top 10 common amenities provided by the majority of the host are the following \\n:'\n",
    "      ,common_amentities['host_id'].sort_values(ascending=False).index[0])\n",
    "#### if you have courage repeat it "
   ]
  },
  {
   "cell_type": "markdown",
   "metadata": {},
   "source": [
    "### Top 10 Rated Listings (Q15)"
   ]
  },
  {
   "cell_type": "code",
   "execution_count": 21,
   "metadata": {},
   "outputs": [
    {
     "name": "stdout",
     "output_type": "stream",
     "text": [
      "Top 10 Rated Listings\n"
     ]
    },
    {
     "data": {
      "text/html": [
       "<div>\n",
       "<style scoped>\n",
       "    .dataframe tbody tr th:only-of-type {\n",
       "        vertical-align: middle;\n",
       "    }\n",
       "\n",
       "    .dataframe tbody tr th {\n",
       "        vertical-align: top;\n",
       "    }\n",
       "\n",
       "    .dataframe thead th {\n",
       "        text-align: right;\n",
       "    }\n",
       "</style>\n",
       "<table border=\"1\" class=\"dataframe\">\n",
       "  <thead>\n",
       "    <tr style=\"text-align: right;\">\n",
       "      <th></th>\n",
       "      <th>id</th>\n",
       "      <th>host_id</th>\n",
       "      <th>review_scores_rating</th>\n",
       "    </tr>\n",
       "  </thead>\n",
       "  <tbody>\n",
       "    <tr>\n",
       "      <th>9423</th>\n",
       "      <td>45918622</td>\n",
       "      <td>83795815</td>\n",
       "      <td>100.0</td>\n",
       "    </tr>\n",
       "    <tr>\n",
       "      <th>6356</th>\n",
       "      <td>35349850</td>\n",
       "      <td>266097571</td>\n",
       "      <td>100.0</td>\n",
       "    </tr>\n",
       "    <tr>\n",
       "      <th>2280</th>\n",
       "      <td>20549593</td>\n",
       "      <td>2089542</td>\n",
       "      <td>100.0</td>\n",
       "    </tr>\n",
       "    <tr>\n",
       "      <th>2283</th>\n",
       "      <td>20576553</td>\n",
       "      <td>89151521</td>\n",
       "      <td>100.0</td>\n",
       "    </tr>\n",
       "    <tr>\n",
       "      <th>6343</th>\n",
       "      <td>35328731</td>\n",
       "      <td>265989472</td>\n",
       "      <td>100.0</td>\n",
       "    </tr>\n",
       "    <tr>\n",
       "      <th>2286</th>\n",
       "      <td>20603771</td>\n",
       "      <td>142862132</td>\n",
       "      <td>100.0</td>\n",
       "    </tr>\n",
       "    <tr>\n",
       "      <th>2291</th>\n",
       "      <td>20628113</td>\n",
       "      <td>147473995</td>\n",
       "      <td>100.0</td>\n",
       "    </tr>\n",
       "    <tr>\n",
       "      <th>6340</th>\n",
       "      <td>35316187</td>\n",
       "      <td>42755842</td>\n",
       "      <td>100.0</td>\n",
       "    </tr>\n",
       "    <tr>\n",
       "      <th>2297</th>\n",
       "      <td>20686418</td>\n",
       "      <td>148043518</td>\n",
       "      <td>100.0</td>\n",
       "    </tr>\n",
       "    <tr>\n",
       "      <th>6331</th>\n",
       "      <td>35282269</td>\n",
       "      <td>265163020</td>\n",
       "      <td>100.0</td>\n",
       "    </tr>\n",
       "  </tbody>\n",
       "</table>\n",
       "</div>"
      ],
      "text/plain": [
       "            id    host_id  review_scores_rating\n",
       "9423  45918622   83795815                 100.0\n",
       "6356  35349850  266097571                 100.0\n",
       "2280  20549593    2089542                 100.0\n",
       "2283  20576553   89151521                 100.0\n",
       "6343  35328731  265989472                 100.0\n",
       "2286  20603771  142862132                 100.0\n",
       "2291  20628113  147473995                 100.0\n",
       "6340  35316187   42755842                 100.0\n",
       "2297  20686418  148043518                 100.0\n",
       "6331  35282269  265163020                 100.0"
      ]
     },
     "metadata": {},
     "output_type": "display_data"
    },
    {
     "name": "stdout",
     "output_type": "stream",
     "text": [
      "The top 10 rated listings correspond to  10  different hosts\n"
     ]
    }
   ],
   "source": [
    "ratins_per_listing = listings[[\"id\",\"host_id\",\"review_scores_rating\"]][listings.review_scores_rating.notna() ]\n",
    "ratins_per_listing.sort_values(by = \"review_scores_rating\", ascending = False, inplace = True)\n",
    "print(\"Top 10 Rated Listings\")\n",
    "display(ratins_per_listing.iloc[:10])\n",
    "print(\"The top 10 rated listings correspond to \",ratins_per_listing.iloc[:10][\"host_id\"].nunique(), \" different hosts\")"
   ]
  },
  {
   "cell_type": "markdown",
   "metadata": {},
   "source": [
    "### Top 5 Rated Locations/Neighborhoods? (Q16)"
   ]
  },
  {
   "cell_type": "code",
   "execution_count": 22,
   "metadata": {},
   "outputs": [
    {
     "name": "stdout",
     "output_type": "stream",
     "text": [
      "Top 5 Rated Neighborhoods\n"
     ]
    },
    {
     "data": {
      "text/html": [
       "<div>\n",
       "<style scoped>\n",
       "    .dataframe tbody tr th:only-of-type {\n",
       "        vertical-align: middle;\n",
       "    }\n",
       "\n",
       "    .dataframe tbody tr th {\n",
       "        vertical-align: top;\n",
       "    }\n",
       "\n",
       "    .dataframe thead th {\n",
       "        text-align: right;\n",
       "    }\n",
       "</style>\n",
       "<table border=\"1\" class=\"dataframe\">\n",
       "  <thead>\n",
       "    <tr style=\"text-align: right;\">\n",
       "      <th></th>\n",
       "      <th>review_scores_rating</th>\n",
       "      <th>neighbourhood_cleansed</th>\n",
       "    </tr>\n",
       "  </thead>\n",
       "  <tbody>\n",
       "    <tr>\n",
       "      <th>9423</th>\n",
       "      <td>100.0</td>\n",
       "      <td>ΣΤΑΔΙΟ</td>\n",
       "    </tr>\n",
       "    <tr>\n",
       "      <th>6356</th>\n",
       "      <td>100.0</td>\n",
       "      <td>ΑΓΙΟΣ ΚΩΝΣΤΑΝΤΙΝΟΣ-ΠΛΑΤΕΙΑ ΒΑΘΗΣ</td>\n",
       "    </tr>\n",
       "    <tr>\n",
       "      <th>2280</th>\n",
       "      <td>100.0</td>\n",
       "      <td>ΚΟΥΚΑΚΙ-ΜΑΚΡΥΓΙΑΝΝΗ</td>\n",
       "    </tr>\n",
       "    <tr>\n",
       "      <th>2283</th>\n",
       "      <td>100.0</td>\n",
       "      <td>ΕΜΠΟΡΙΚΟ ΤΡΙΓΩΝΟ-ΠΛΑΚΑ</td>\n",
       "    </tr>\n",
       "    <tr>\n",
       "      <th>6343</th>\n",
       "      <td>100.0</td>\n",
       "      <td>ΑΜΠΕΛΟΚΗΠΟΙ</td>\n",
       "    </tr>\n",
       "  </tbody>\n",
       "</table>\n",
       "</div>"
      ],
      "text/plain": [
       "      review_scores_rating            neighbourhood_cleansed\n",
       "9423                 100.0                            ΣΤΑΔΙΟ\n",
       "6356                 100.0  ΑΓΙΟΣ ΚΩΝΣΤΑΝΤΙΝΟΣ-ΠΛΑΤΕΙΑ ΒΑΘΗΣ\n",
       "2280                 100.0               ΚΟΥΚΑΚΙ-ΜΑΚΡΥΓΙΑΝΝΗ\n",
       "2283                 100.0            ΕΜΠΟΡΙΚΟ ΤΡΙΓΩΝΟ-ΠΛΑΚΑ\n",
       "6343                 100.0                       ΑΜΠΕΛΟΚΗΠΟΙ"
      ]
     },
     "metadata": {},
     "output_type": "display_data"
    }
   ],
   "source": [
    "ratings_per_location = listings[[\"review_scores_rating\",\"neighbourhood_cleansed\"]]\n",
    "ratings_per_location = ratings_per_location.sort_values(by = \"review_scores_rating\", ascending = False)\n",
    "print(\"Top 5 Rated Neighborhoods\")\n",
    "display(ratings_per_location.iloc[:5])"
   ]
  },
  {
   "cell_type": "markdown",
   "metadata": {},
   "source": [
    "### Time periods when most reviews are submitted (Q17)"
   ]
  },
  {
   "cell_type": "code",
   "execution_count": 23,
   "metadata": {},
   "outputs": [
    {
     "name": "stdout",
     "output_type": "stream",
     "text": [
      "Top 10 periods in which the majority of the reviews submitted\n"
     ]
    },
    {
     "data": {
      "text/html": [
       "<div>\n",
       "<style scoped>\n",
       "    .dataframe tbody tr th:only-of-type {\n",
       "        vertical-align: middle;\n",
       "    }\n",
       "\n",
       "    .dataframe tbody tr th {\n",
       "        vertical-align: top;\n",
       "    }\n",
       "\n",
       "    .dataframe thead th {\n",
       "        text-align: right;\n",
       "    }\n",
       "</style>\n",
       "<table border=\"1\" class=\"dataframe\">\n",
       "  <thead>\n",
       "    <tr style=\"text-align: right;\">\n",
       "      <th></th>\n",
       "      <th>number_of_reviews</th>\n",
       "      <th>Time Periods</th>\n",
       "    </tr>\n",
       "  </thead>\n",
       "  <tbody>\n",
       "    <tr>\n",
       "      <th>136</th>\n",
       "      <td>714</td>\n",
       "      <td>2013-06-05 - 2020-10-12</td>\n",
       "    </tr>\n",
       "    <tr>\n",
       "      <th>210</th>\n",
       "      <td>615</td>\n",
       "      <td>2014-04-07 - 2020-10-12</td>\n",
       "    </tr>\n",
       "    <tr>\n",
       "      <th>274</th>\n",
       "      <td>588</td>\n",
       "      <td>2014-07-07 - 2020-10-19</td>\n",
       "    </tr>\n",
       "    <tr>\n",
       "      <th>525</th>\n",
       "      <td>560</td>\n",
       "      <td>2015-07-08 - 2020-10-18</td>\n",
       "    </tr>\n",
       "    <tr>\n",
       "      <th>166</th>\n",
       "      <td>556</td>\n",
       "      <td>2013-08-14 - 2020-09-29</td>\n",
       "    </tr>\n",
       "    <tr>\n",
       "      <th>209</th>\n",
       "      <td>538</td>\n",
       "      <td>2014-02-15 - 2020-03-11</td>\n",
       "    </tr>\n",
       "    <tr>\n",
       "      <th>371</th>\n",
       "      <td>526</td>\n",
       "      <td>2015-02-03 - 2020-10-12</td>\n",
       "    </tr>\n",
       "    <tr>\n",
       "      <th>1084</th>\n",
       "      <td>505</td>\n",
       "      <td>2016-06-22 - 2020-10-10</td>\n",
       "    </tr>\n",
       "    <tr>\n",
       "      <th>1275</th>\n",
       "      <td>482</td>\n",
       "      <td>2016-08-22 - 2020-10-05</td>\n",
       "    </tr>\n",
       "    <tr>\n",
       "      <th>743</th>\n",
       "      <td>477</td>\n",
       "      <td>2016-05-13 - 2020-10-23</td>\n",
       "    </tr>\n",
       "  </tbody>\n",
       "</table>\n",
       "</div>"
      ],
      "text/plain": [
       "      number_of_reviews             Time Periods\n",
       "136                 714  2013-06-05 - 2020-10-12\n",
       "210                 615  2014-04-07 - 2020-10-12\n",
       "274                 588  2014-07-07 - 2020-10-19\n",
       "525                 560  2015-07-08 - 2020-10-18\n",
       "166                 556  2013-08-14 - 2020-09-29\n",
       "209                 538  2014-02-15 - 2020-03-11\n",
       "371                 526  2015-02-03 - 2020-10-12\n",
       "1084                505  2016-06-22 - 2020-10-10\n",
       "1275                482  2016-08-22 - 2020-10-05\n",
       "743                 477  2016-05-13 - 2020-10-23"
      ]
     },
     "execution_count": 23,
     "metadata": {},
     "output_type": "execute_result"
    }
   ],
   "source": [
    "reviewes_over_periods = listings[[\"id\", 'number_of_reviews','first_review', 'last_review', 'reviews_per_month']]\n",
    "reviewes_over_periods = reviewes_over_periods[reviewes_over_periods.number_of_reviews != 0]\n",
    "reviewes_over_periods[\"Time Periods\"] = reviewes_over_periods[['first_review', 'last_review']].apply(lambda row: row.iloc[0]+\" - \"+ row.iloc[1], axis= 1)\n",
    "print(\"Top 10 periods in which the majority of the reviews submitted\")\n",
    "reviewes_over_periods[[ 'number_of_reviews',\"Time Periods\"]].sort_values(by = 'number_of_reviews', ascending = False).iloc[:10]"
   ]
  },
  {
   "cell_type": "markdown",
   "metadata": {},
   "source": [
    "### Distribution of Score Ratings (Q18)"
   ]
  },
  {
   "cell_type": "code",
   "execution_count": 24,
   "metadata": {},
   "outputs": [
    {
     "name": "stdout",
     "output_type": "stream",
     "text": [
      "Number of Ratings with Scores lower than 50 is  36\n"
     ]
    },
    {
     "data": {
      "image/png": "[encoded data removed]",
      "text/plain": [
       "<Figure size 576x576 with 1 Axes>"
      ]
     },
     "metadata": {
      "needs_background": "light"
     },
     "output_type": "display_data"
    }
   ],
   "source": [
    "score_ratings = listings[\"review_scores_rating\"][listings[\"review_scores_rating\"].notna()]\n",
    "ax_ = score_ratings.plot.kde(color=\"green\", figsize=(8, 8))\n",
    "plt.xlabel(\"Ratings\")\n",
    "plt.title(\"Distribution of Score Ratings\")\n",
    "plt.xlim(score_ratings.min()-1,score_ratings.max()+10)\n",
    "score_ratings.max()\n",
    "print(\"Number of Ratings with Scores lower than 50 is \",sum(score_ratings <= 50))"
   ]
  },
  {
   "cell_type": "markdown",
   "metadata": {},
   "source": [
    "### Distributions of Prices Per Room Type (Q19)"
   ]
  },
  {
   "cell_type": "code",
   "execution_count": 25,
   "metadata": {},
   "outputs": [
    {
     "name": "stderr",
     "output_type": "stream",
     "text": [
      "<ipython-input-25-74b37c86a1a6>:3: SettingWithCopyWarning: \n",
      "A value is trying to be set on a copy of a slice from a DataFrame.\n",
      "Try using .loc[row_indexer,col_indexer] = value instead\n",
      "\n",
      "See the caveats in the documentation: https://pandas.pydata.org/pandas-docs/stable/user_guide/indexing.html#returning-a-view-versus-a-copy\n",
      "  prices_per_room_type[\"price_number\"] = prices_per_room_type[\"price\"].apply(lambda x: float(x[1:].replace(\",\",\"\")))\n"
     ]
    },
    {
     "data": {
      "image/png": "[encoded data removed]",
      "text/plain": [
       "<Figure size 1080x1080 with 4 Axes>"
      ]
     },
     "metadata": {
      "needs_background": "light"
     },
     "output_type": "display_data"
    }
   ],
   "source": [
    "prices_per_room_type = listings[[\"price\", \"room_type\"]]\n",
    "\n",
    "prices_per_room_type[\"price_number\"] = prices_per_room_type[\"price\"].apply(lambda x: float(x[1:].replace(\",\",\"\")))\n",
    "\n",
    "#prices_per_room_type.groupby(\"room_type\").price_number.plot(kind = \"hist\", bins = 50, density=True, legend=True, alpha=0.5)\n",
    "\n",
    "#prices_per_room_type.groupby(\"room_type\").price_number.plot(kind = \"kde\", legend = True )#(kind='kde', legend = True)\n",
    "#plt.xlim(0,prices_per_room_type.price_number.mean() +   prices_per_room_type.price_number.std())\n",
    "#from matplotlib.ticker import PercentFormatter\n",
    "#plt.gca().yaxis.set_major_formatter(PercentFormatter(50000))\n",
    "\n",
    "#sns.kdeplot(data=prices_per_room_type, x=\"price_number\", hue=\"room_type\")\n",
    "\n",
    "#plt.title(\"Distribution of Price per Room Type\")\n",
    "#fig = plt.figure()\n",
    "#ax = fig.add_subplot(111) \n",
    "\n",
    "axs = prices_per_room_type.pivot(columns='room_type', values='price_number').plot(kind='hist',bins = 1000, subplots = True\n",
    "                                                                           , density = True\n",
    "                                                                           , alpha = 0.99\n",
    "                                                                           , align='mid'\n",
    "                                                                           , title = \"Distribution of Prices for Each Room Type\"\n",
    "                                                                           , ylabel = \"f\"                                                                        \n",
    "                                                                           , xlim = (0,prices_per_room_type.price_number.mean() +  1.5 * prices_per_room_type.price_number.std())\n",
    "                                                                           , ax = plt.subplots(2, 2, figsize=(15,15),sharey=True)[-1])\n",
    "for i in range(len(axs)):\n",
    "    axs[i].set_ylabel(\"Density\")\n",
    "\n"
   ]
  },
  {
   "cell_type": "markdown",
   "metadata": {},
   "source": [
    "###  Which days of the Week Have the Highest mean Prices? (Q20)\n"
   ]
  },
  {
   "cell_type": "code",
   "execution_count": 26,
   "metadata": {},
   "outputs": [
    {
     "name": "stderr",
     "output_type": "stream",
     "text": [
      "<ipython-input-26-7441f7b24e57>:11: SettingWithCopyWarning: \n",
      "A value is trying to be set on a copy of a slice from a DataFrame.\n",
      "Try using .loc[row_indexer,col_indexer] = value instead\n",
      "\n",
      "See the caveats in the documentation: https://pandas.pydata.org/pandas-docs/stable/user_guide/indexing.html#returning-a-view-versus-a-copy\n",
      "  prices_per_week[\"day\"] = prices_per_week[\"date\"].apply(lambda date: convert_date_to_day(date))\n"
     ]
    },
    {
     "data": {
      "text/html": [
       "<style  type=\"text/css\" >\n",
       "#T_2d1dd8aa_4a09_11eb_95f1_1cb72cb019b6row0_col0,#T_2d1dd8aa_4a09_11eb_95f1_1cb72cb019b6row2_col0,#T_2d1dd8aa_4a09_11eb_95f1_1cb72cb019b6row3_col0{\n",
       "            background-color:  yellow;\n",
       "        }#T_2d1dd8aa_4a09_11eb_95f1_1cb72cb019b6row1_col0,#T_2d1dd8aa_4a09_11eb_95f1_1cb72cb019b6row4_col0,#T_2d1dd8aa_4a09_11eb_95f1_1cb72cb019b6row5_col0,#T_2d1dd8aa_4a09_11eb_95f1_1cb72cb019b6row6_col0{\n",
       "            background-color:  white;\n",
       "        }</style><table id=\"T_2d1dd8aa_4a09_11eb_95f1_1cb72cb019b6\" ><thead>    <tr>        <th class=\"blank level0\" ></th>        <th class=\"col_heading level0 col0\" >price_number</th>    </tr>    <tr>        <th class=\"blank level1\" ></th>        <th class=\"col_heading level1 col0\" >mean</th>    </tr>    <tr>        <th class=\"index_name level0\" >day</th>        <th class=\"blank\" ></th>    </tr></thead><tbody>\n",
       "                <tr>\n",
       "                        <th id=\"T_2d1dd8aa_4a09_11eb_95f1_1cb72cb019b6level0_row0\" class=\"row_heading level0 row0\" >Friday</th>\n",
       "                        <td id=\"T_2d1dd8aa_4a09_11eb_95f1_1cb72cb019b6row0_col0\" class=\"data row0 col0\" >99.061182</td>\n",
       "            </tr>\n",
       "            <tr>\n",
       "                        <th id=\"T_2d1dd8aa_4a09_11eb_95f1_1cb72cb019b6level0_row1\" class=\"row_heading level0 row1\" >Monday</th>\n",
       "                        <td id=\"T_2d1dd8aa_4a09_11eb_95f1_1cb72cb019b6row1_col0\" class=\"data row1 col0\" >98.585014</td>\n",
       "            </tr>\n",
       "            <tr>\n",
       "                        <th id=\"T_2d1dd8aa_4a09_11eb_95f1_1cb72cb019b6level0_row2\" class=\"row_heading level0 row2\" >Saturday</th>\n",
       "                        <td id=\"T_2d1dd8aa_4a09_11eb_95f1_1cb72cb019b6row2_col0\" class=\"data row2 col0\" >99.359607</td>\n",
       "            </tr>\n",
       "            <tr>\n",
       "                        <th id=\"T_2d1dd8aa_4a09_11eb_95f1_1cb72cb019b6level0_row3\" class=\"row_heading level0 row3\" >Sunday</th>\n",
       "                        <td id=\"T_2d1dd8aa_4a09_11eb_95f1_1cb72cb019b6row3_col0\" class=\"data row3 col0\" >99.064087</td>\n",
       "            </tr>\n",
       "            <tr>\n",
       "                        <th id=\"T_2d1dd8aa_4a09_11eb_95f1_1cb72cb019b6level0_row4\" class=\"row_heading level0 row4\" >Thursday</th>\n",
       "                        <td id=\"T_2d1dd8aa_4a09_11eb_95f1_1cb72cb019b6row4_col0\" class=\"data row4 col0\" >98.847043</td>\n",
       "            </tr>\n",
       "            <tr>\n",
       "                        <th id=\"T_2d1dd8aa_4a09_11eb_95f1_1cb72cb019b6level0_row5\" class=\"row_heading level0 row5\" >Tuesday</th>\n",
       "                        <td id=\"T_2d1dd8aa_4a09_11eb_95f1_1cb72cb019b6row5_col0\" class=\"data row5 col0\" >98.506366</td>\n",
       "            </tr>\n",
       "            <tr>\n",
       "                        <th id=\"T_2d1dd8aa_4a09_11eb_95f1_1cb72cb019b6level0_row6\" class=\"row_heading level0 row6\" >Wednesday</th>\n",
       "                        <td id=\"T_2d1dd8aa_4a09_11eb_95f1_1cb72cb019b6row6_col0\" class=\"data row6 col0\" >98.467990</td>\n",
       "            </tr>\n",
       "    </tbody></table>"
      ],
      "text/plain": [
       "<pandas.io.formats.style.Styler at 0x2456335f640>"
      ]
     },
     "metadata": {},
     "output_type": "display_data"
    },
    {
     "name": "stdout",
     "output_type": "stream",
     "text": [
      "During Weekends and Fridays the Listings Cost Reach the Maximum Level on Average\n"
     ]
    }
   ],
   "source": [
    "prices_per_week = calendar[[\"date\",\"price_number\"]]\n",
    "#prices_per_week[\"week_days\"] = prices_per_week[\"date\"].apply(lambda x:x[-2:])\n",
    "\n",
    "import datetime  \n",
    "from datetime import date \n",
    "\n",
    "def convert_date_to_day (date):\n",
    "    year, month, day  = date.split('-') \n",
    "    return datetime.date(int(year), int(month), int(day)).strftime(\"%A\")\n",
    "\n",
    "prices_per_week[\"day\"] = prices_per_week[\"date\"].apply(lambda date: convert_date_to_day(date))\n",
    "\n",
    "avg_price_per_week = prices_per_week[[\"price_number\",\"day\"]].groupby(\"day\").agg([\"mean\"])\n",
    "\n",
    "nlarg = avg_price_per_week.nlargest(3, avg_price_per_week.columns[0]).values\n",
    "\n",
    "def highlight_top_3(x,nlarg):\n",
    "    \n",
    "    if x.iloc[0] >= nlarg[-1]:             \n",
    "        return ['background-color: yellow']*1\n",
    "    else:\n",
    "        return ['background-color: white']*1\n",
    "\n",
    "\n",
    "display(avg_price_per_week.style.apply(lambda x: highlight_top_3(x,nlarg), axis=1))\n",
    "print(\"During Weekends and Fridays the Listings Cost Reach the Maximum Level on Average\")"
   ]
  },
  {
   "cell_type": "markdown",
   "metadata": {},
   "source": [
    "###  Numerical Form of Amenities (Q21)\n",
    "The numeric representation of each single amenity term or phrase is duable with the use of a hash based approach\n",
    "\n",
    "called Dictionary Lookup. Where each term is bucketized using constant hash function into a fixed hash map with length equal to the number of all unique terms."
   ]
  },
  {
   "cell_type": "code",
   "execution_count": 27,
   "metadata": {},
   "outputs": [
    {
     "name": "stdout",
     "output_type": "stream",
     "text": [
      "Mappings from Terms to Embeddings\n",
      " {'': 0, '\"Various body soap\"': 31, '\"Window AC unit\"': 173, '\"Zealots of Nature by Coco-mat body soap\"': 237, '\"Coffee maker\"': 231, 'olive oil/orange body soap\"': 134, '\"Free parking garage on premises \\\\u2013 1 space\"': 105, '\"43\\\\\" TV with standard cable\"': 252, '\"Long term stays allowed\"': 174, '\"Outlet covers\"': 154, '\"Korres shampoo\"': 161, '\"First aid kit\"': 180, '\"Aqua senses shampoo\"': 200, '\"Gas stove\"': 122, '\"Pour Over Coffee\"': 137, '\"42\\\\\" TV with Netflix': 95, '\"Free parking garage on premises\"': 49, '\"Stainless steel stove\"': 163, 'white soap': 187, '\"Wifi \\\\u2013 35 Mbps\"': 223, '\"Davoline': 215, '\"Host greets you\"': 46, '\"EV charger\"': 37, '\"Heating\"': 59, '\"Bread maker\"': 70, 'Amazon Prime Video': 145, '\"KORTING oven\"': 80, '\"MORRIS refrigerator\"': 15, '\"Kitchen\"': 81, '\"Marseillais shampoo\"': 214, '\"Korres conditioner\"': 41, '\"Microwave\"': 5, '\"50\\\\\" HDTV with Netflix': 225, '\"Paid parking on premises\"': 130, '\"Window guards\"': 70, '\"Iron\"': 231, '\"TV\"': 150, '\"Wifi\"': 215, '\"LG sound system with Bluetooth and aux\"': 106, '\"32\\\\\" HDTV with Netflix\"': 32, '\"43\\\\\" HDTV with Netflix': 179, '\"Elevator\"': 21, '\"Smoking allowed\"': 88, '\"High chair\"': 16, '\"Fire extinguisher\"': 203, '\"Baking sheet\"': 21, '\"Garden or backyard\"': 190, '\"MIELE refrigerator\"': 210, '\"Paid parking lot off premises\"': 252, '\"Wifi \\\\u2013 40 Mbps\"': 47, '\"Rice Maker\"': 244, '\"Self check-in\"': 217, '\"Building staff\"': 49, '\"Paid parking garage off premises\"': 44, '\"Conditioner\"': 63, '\"Logitec sound system with aux\"': 223, '\"r\\\\u00f3\\\\u017cne  body soap\"': 79, '\"Siemens refrigerator\"': 215, '\"Hot tub\"': 65, '\"Extra pillows and blankets\"': 196, '\"Wifi \\\\u2013 30 Mbps\"': 236, '\"Free street parking\"': 45, '\"Whirlpool oven\"': 120, '\"Shampoo\"': 220, '\"Siemens (Pitsos) stainless steel oven\"': 51, '\"Arieli electric stove\"': 163, '\"Baby bath\"': 41, '\"Paid parking garage on premises \\\\u2013 1 space\"': 128, '\"Luggage dropoff allowed\"': 73, '\"Pack \\\\u2019n Play/travel crib\"': 188, '\"Marseillaise body soap\"': 39, 'Chromecast\"': 28, '\"Private living room\"': 120, '\"Electrolux oven\"': 84, '\"32\\\\\" HDTV\"': 227, '\"Single level home\"': 214, '\"Arieli refrigerator\"': 199, '\"Wifi \\\\u2013 48 Mbps\"': 74, '\"JVC Panasonic sound system\"': 103, '\"pitsos oven\"': 237, '\"Freezer\"': 179, '\"Rohnson Mini-oven oven\"': 153, '\"Washer \\\\u2013\\\\u00a0In building\"': 2, '\"Free parking on premises\"': 59, '\"Dishwasher\"': 86, '\"Stainless steel oven\"': 79, '\"Marseillais body soap\"': 136, '\"Wifi \\\\u2013 24 Mbps\"': 36, '\"Stair gates\"': 87, '\"22\\\\\" HDTV\"': 222, '\"38\\\\\" HDTV with Netflix\"': 81, '\"Wifi \\\\u2013 100 Mbps\"': 118, '\"Beachfront\"': 89, '\"Piano\"': 66, '\"KORTING electric stove\"': 58, '\"Wifi \\\\u2013 12 Mbps\"': 149, 'standard cable\"': 121, '\"Sound system with aux\"': 145, '\"Table corner guards\"': 88, '\"Miele stainless steel induction stove\"': 45, '\"Private entrance\"': 156, '\"pitsos electric stove\"': 230, '\"Lockbox\"': 166, '\"Cable TV\"': 6, '\"Children\\\\u2019s dinnerware\"': 159, '\"Wifi \\\\u2013 50 Mbps\"': 77, '\"Hot water\"': 35, '\"Shower gel\"': 76, '\"Free residential garage on premises \\\\u2013 1 space\"': 75, '\"Wifi \\\\u2013 17 Mbps\"': 171, '\"Body soap\"': 154, '\"Baby monitor\"': 178, '\"Waterfront\"': 165, '\"50\\\\\" HDTV with Netflix\"': 161, 'premium cable\"': 115, '\"Laptop-friendly workspace\"': 100, '\"24\\\\\" HDTV with Netflix': 110, '\"Indoor fireplace\"': 179, '\"50\\\\\" HDTV\"': 17, '\"Zealots of Nature by Coco-mat conditioner\"': 79, '\"Bed linens\"': 115, '\"65\\\\\" TV\"': 44, '\"Patio or balcony\"': 70, '\"Stainless steel electric stove\"': 249, '\"Stainless steel gas stove\"': 23, '\"48\\\\\" HDTV with Netflix': 239, '\"2 hotplates electric stove\"': 191, '\"Aqua Senses body soap\"': 87, '\"HDTV with Netflix': 194, '\"55\\\\\" HDTV\"': 59, '\"Lake access\"': 18, '\"Gym\"': 79, '\"Bedroom comforts\"': 201, '\"Zealots of nature by Coco-mat body soap\"': 48, '\"Air conditioning\"': 152, '\"Wifi \\\\u2013 11 Mbps\"': 76, '\"Children\\\\u2019s books and toys\"': 255, '\"Ceiling fan\"': 222, 'small  oven   stainless steel stove\"': 30, '\"\\\\u0397\\\\u03bb\\\\u03b5\\\\u03ba\\\\u03c4\\\\u03c1\\\\u03b9\\\\u03ba\\\\u03ad\\\\u03c2 \\\\u03b5\\\\u03c3\\\\u03c4\\\\u03af\\\\u03b5\\\\u03c2 induction stove\"': 197, '\"Dryer \\\\u2013\\\\u00a0In unit\"': 191, '\"Bosch refrigerator\"': 80, '\"Refrigerator\"': 174, '\"HDTV\"': 226, '\"Zealots of nature by Coco-mat shampoo\"': 150, '\"Lock on bedroom door\"': 158, '\"32\\\\\" TV\"': 101, '\"Arielli ARS-121LN': 160, '\"Nespresso machine\"': 260, '\"Electric stove\"': 66, '\"BBQ grill\"': 161, '\"Radiant heating\"': 77, '\"Bosch stainless steel oven\"': 126, '\"Changing table\"': 195, 'standard cable': 179, '\"Zealots of nature by Coco-mat conditioner\"': 38, '\"Morris electric stove\"': 133, '\"Ikea induction stove\"': 183, '\"Ski-in/Ski-out\"': 121, '\"42\\\\\" HDTV with Netflix\"': 77, '\"Oven\"': 119, '\"Electrolux electric stove\"': 192, '\"Laundromat nearby\"': 107, '\"Induction stove\"': 196, '\"Fair Trade conditioner\"': 132, '\"Paid parking garage on premises\"': 105, '\"Dryer \\\\u2013 In building\"': 102, '\"Marseillais conditioner\"': 103, '\"Stove\"': 47, '\"Pantene shampoo\"': 67, '\"Wifi \\\\u2013 45 Mbps\"': 218, '\"HiSense refrigerator\"': 38, '\"Cooking basics\"': 21, '\"Central heating\"': 253, '\"Cleaning before checkout\"': 66, '\"Trash compactor\"': 248, '\"Babysitter recommendations\"': 96, '\"Room-darkening shades\"': 84, '\"Various shampoo\"': 115, '\"Franke refrigerator\"': 68, '\"Beach essentials\"': 124, '\"Karavaki body soap\"': 158, '\"Essentials\"': 211, '\"43\\\\\" HDTV with Netflix\"': 195, '\"Game console\"': 78, '\"Hair dryer\"': 1, '\"Morris refrigerator\"': 142, '\"PHILIPS sound system with aux\"': 239, '\"MIELE electric stove\"': 149, '\"Breakfast\"': 184, '\"Wifi \\\\u2013 28 Mbps\"': 145, '\"r\\\\u00f3\\\\u017cne  conditioner\"': 155, '\"Kitchenette\"': 6, '\"LG refrigerator\"': 176, '\"Paid street parking off premises\"': 14, '\"intesit refrigerator\"': 38, '\"lenor conditioner\"': 114, '\"Hangers\"': 18, '\"Sound system\"': 257, '\"Portable heater\"': 223, '\"Hoover oven\"': 6, '\"Ethernet connection\"': 236, '\"Portable air conditioning\"': 212, '\"Portable fans\"': 247, '\"Washer\"': 111, '\"Fair trade conditioner\"': 13, '\"Various conditioner\"': 200, '\"Crib\"': 208, '\"Keypad\"': 228, '\"General Electric conditioner\"': 10, '\"Marshall sound system with Bluetooth and aux\"': 113, '\"Dryer\"': 124, '\"Bathroom essentials\"': 7, '\"Dishes and silverware\"': 236, '\"Carbon monoxide alarm\"': 238, '\"Bosch stainless steel induction stove\"': 242, '\"Marseillaise conditioner\"': 214, '\"Smart lock\"': 233, '\"Record player\"': 215, '\"Washer \\\\u2013\\\\u00a0In unit\"': 14, '\"Pets allowed\"': 204, '\"Korres body soap\"': 114, '\"Pocket wifi\"': 136, '\"Sound system with Bluetooth and aux\"': 109, '\"Wifi \\\\u2013 10 Mbps\"': 38, '\"Central air conditioning\"': 112, '\"Wifi \\\\u2013 90 Mbps\"': 36, '\"55\\\\\" HDTV with Netflix\"': 181, '\"Sony sound system with Bluetooth and aux\"': 163, '\"Pool\"': 125, '\"JBL Flip 5 Bluetooth sound system\"': 21, '\"Mini fridge\"': 61, '\"40\\\\\" HDTV with Netflix\"': 237, '\"TV with Netflix\"': 181, '\"Smoke alarm\"': 198, '\"JBL Flip Bluetooth sound system\"': 62, '\"Bluetooth sound system\"': 141, '\"Bosch induction stove\"': 89, '\"du\\\\u017ca lod\\\\u00f3wka refrigerator\"': 47, '\"TV with standard cable\"': 167, '\"Bathtub\"': 195, '\"Fireplace guards\"': 7, '\"OLIVIA from ABEA': 231, '\"43\\\\\" HDTV\"': 14, '\"Full kitchen\"': 101, '\"Suitable for events\"': 53, '\"Samsung refrigerator\"': 85, '\"Dove body soap\"': 123, '\"HDTV with Netflix\"': 146, '\"40\\\\\" HDTV\"': 185, '\"JBL Flip 4 Bluetooth sound system\"': 123, '93l refrigerator\"': 231, '\"MIELE oven\"': 242, '\"Barbecue utensils\"': 254, '\"Pantene conditioner\"': 95, '\"Miele stainless steel oven\"': 135, '\"Aqua Senses shampoo\"': 163, '\"Bosch oven\"': 225, '\"Zealots of Nature by Coco-mat shampoo\"': 175, '\"SONY sound system with Bluetooth and aux\"': 103, '\"Paid parking off premises\"': 195}\n"
     ]
    }
   ],
   "source": [
    "### Find the unique set of aminity terms\n",
    "uniq = tuple()\n",
    "for i in range(0,len(listings)):\n",
    "    uniq = tuple(set(uniq + listings[\"amenities_list\"].iloc[i]))\n",
    "## Number of Unique Aminityh Terms\n",
    "N = len(uniq)\n",
    "vocab = {}\n",
    "### Construc the Vocab\n",
    "for term in uniq:\n",
    "    hash_value = hash(term)%N\n",
    "    if not term in vocab.keys():\n",
    "        vocab[term] = hash_value\n",
    "        \n",
    "def vector_hash(terms, vocab):\n",
    "    return [vocab[term]for term in terms ]\n",
    "\n",
    "vector_embeddings = listings[\"amenities_list\"].apply(lambda terms: vector_hash(terms, vocab))\n",
    "print(\"Mappings from Terms to Embeddings\\n\", vocab)\n"
   ]
  },
  {
   "cell_type": "markdown",
   "metadata": {},
   "source": [
    "### Scale of Numeric Features (Q22)"
   ]
  },
  {
   "cell_type": "code",
   "execution_count": 28,
   "metadata": {},
   "outputs": [
    {
     "name": "stdout",
     "output_type": "stream",
     "text": [
      "Considering the next plot related to Listings, it seems that the scales of most of the features except the geospatial ones look similar\n",
      "Considering the next plot related to Calendar, it seems that the scales of prices and maximum nights are aligned to the same level\n"
     ]
    },
    {
     "data": {
      "image/png": "[encoded data removed]",
      "text/plain": [
       "<Figure size 432x288 with 1 Axes>"
      ]
     },
     "metadata": {
      "needs_background": "light"
     },
     "output_type": "display_data"
    },
    {
     "data": {
      "image/png": "[encoded data removed]",
      "text/plain": [
       "<Figure size 432x288 with 1 Axes>"
      ]
     },
     "metadata": {
      "needs_background": "light"
     },
     "output_type": "display_data"
    }
   ],
   "source": [
    "import numpy as np \n",
    "\n",
    "def plot_scales(scales, dataset_name):\n",
    "    \n",
    "    scales = scales[scales.notna()]\n",
    "    scales.plot(kind = \"barh\")\n",
    "    plt.xlabel(\"Scale\")\n",
    "    plt.title(\"Scale of Numberic Features \"+ dataset_name)\n",
    "    \n",
    "print(\"Considering the next plot related to Listings, it seems that the scales of most of the features except the geospatial ones look similar\")\n",
    "\n",
    "plot_scales(listings.loc[:,listings.columns[listings.dtypes == np.float64]].std(axis = 0), \"Listings\")\n",
    "\n",
    "print(\"Considering the next plot related to Calendar, it seems that the scales of prices and maximum nights are aligned to the same level\")\n",
    "\n",
    "plt.figure()\n",
    "\n",
    "plot_scales(calendar.loc[:,calendar.columns[calendar.dtypes == np.float64]].std(axis = 0), \"Calendar\")\n"
   ]
  },
  {
   "cell_type": "markdown",
   "metadata": {},
   "source": [
    "### Linear Relationship Between 'bedrooms' and 'price' in listings_cleaned.csv (Q23)"
   ]
  },
  {
   "cell_type": "code",
   "execution_count": 29,
   "metadata": {},
   "outputs": [
    {
     "name": "stderr",
     "output_type": "stream",
     "text": [
      "<ipython-input-29-7459190de716>:3: SettingWithCopyWarning: \n",
      "A value is trying to be set on a copy of a slice from a DataFrame.\n",
      "Try using .loc[row_indexer,col_indexer] = value instead\n",
      "\n",
      "See the caveats in the documentation: https://pandas.pydata.org/pandas-docs/stable/user_guide/indexing.html#returning-a-view-versus-a-copy\n",
      "  price_bedrooms[\"price_number\"] = price_bedrooms[\"price\"].apply(lambda x: float(x[1:].replace(\",\",\"\")))\n"
     ]
    },
    {
     "data": {
      "text/plain": [
       "<Figure size 1080x1080 with 0 Axes>"
      ]
     },
     "execution_count": 29,
     "metadata": {},
     "output_type": "execute_result"
    },
    {
     "data": {
      "image/png": "[encoded data removed]",
      "text/plain": [
       "<Figure size 540x360 with 1 Axes>"
      ]
     },
     "metadata": {
      "needs_background": "light"
     },
     "output_type": "display_data"
    },
    {
     "data": {
      "text/plain": [
       "<Figure size 1080x1080 with 0 Axes>"
      ]
     },
     "metadata": {},
     "output_type": "display_data"
    }
   ],
   "source": [
    "import seaborn as sns\n",
    "price_bedrooms = listings[[\"price\", \"bedrooms\", \"room_type\"]]\n",
    "price_bedrooms[\"price_number\"] = price_bedrooms[\"price\"].apply(lambda x: float(x[1:].replace(\",\",\"\")))\n",
    "\n",
    "price_bedrooms = price_bedrooms[price_bedrooms[\"bedrooms\"].notna()]\n",
    "sns.lmplot(data=price_bedrooms, x=\"bedrooms\", y=\"price_number\", line_kws={'color': 'red'}, aspect = 1.5 )\n",
    "ax = plt.gca()\n",
    "ax.set_title(\"Numbe of Bedrooms - Price Relationship\")\n",
    "plt.figure(figsize=(15,15))"
   ]
  },
  {
   "cell_type": "markdown",
   "metadata": {},
   "source": [
    "### Relationship Between property_type and price in listings_cleaned.csv (Q24)"
   ]
  },
  {
   "cell_type": "code",
   "execution_count": 30,
   "metadata": {},
   "outputs": [
    {
     "name": "stderr",
     "output_type": "stream",
     "text": [
      "<ipython-input-30-0ea9983adf2d>:3: SettingWithCopyWarning: \n",
      "A value is trying to be set on a copy of a slice from a DataFrame.\n",
      "Try using .loc[row_indexer,col_indexer] = value instead\n",
      "\n",
      "See the caveats in the documentation: https://pandas.pydata.org/pandas-docs/stable/user_guide/indexing.html#returning-a-view-versus-a-copy\n",
      "  preperty_price[\"price_number\"] = preperty_price[\"price\"].apply(lambda x: float(x[1:].replace(\",\",\"\")))\n"
     ]
    },
    {
     "data": {
      "text/plain": [
       "Text(0.5, 1.0, 'Relationship between Property Type and Price')"
      ]
     },
     "execution_count": 30,
     "metadata": {},
     "output_type": "execute_result"
    },
    {
     "data": {
      "image/png": "[encoded data removed]",
      "text/plain": [
       "<Figure size 1152x1008 with 1 Axes>"
      ]
     },
     "metadata": {
      "needs_background": "light"
     },
     "output_type": "display_data"
    }
   ],
   "source": [
    "preperty_price = listings[[\"property_type\", \"price\" ]]\n",
    "\n",
    "preperty_price[\"price_number\"] = preperty_price[\"price\"].apply(lambda x: float(x[1:].replace(\",\",\"\")))\n",
    "\n",
    "preperty_price =  preperty_price[[\"price_number\",\"property_type\"]].groupby(\"property_type\").apply(lambda x:x.mean())\n",
    "     \n",
    "    \n",
    "preperty_price.plot.barh(fontsize = 10.4 ,legend = False, figsize=(16, 14))\n",
    "plt.ylabel(\"Property Type\")\n",
    "plt.xlabel(\"Price\")\n",
    "plt.title(\"Relationship between Property Type and Price\")"
   ]
  },
  {
   "cell_type": "markdown",
   "metadata": {},
   "source": [
    "### Further Analysis"
   ]
  },
  {
   "cell_type": "markdown",
   "metadata": {},
   "source": [
    "#### Distribution Checking for Continious and Discrete Variables"
   ]
  },
  {
   "cell_type": "code",
   "execution_count": 31,
   "metadata": {},
   "outputs": [
    {
     "name": "stdout",
     "output_type": "stream",
     "text": [
      "From the table we observe that the distributions of all continious variables are not normally distributed since all the Null Hypothesis rejected at 0.001 FDR significance level\n"
     ]
    },
    {
     "data": {
      "text/html": [
       "<div>\n",
       "<style scoped>\n",
       "    .dataframe tbody tr th:only-of-type {\n",
       "        vertical-align: middle;\n",
       "    }\n",
       "\n",
       "    .dataframe tbody tr th {\n",
       "        vertical-align: top;\n",
       "    }\n",
       "\n",
       "    .dataframe thead th {\n",
       "        text-align: right;\n",
       "    }\n",
       "</style>\n",
       "<table border=\"1\" class=\"dataframe\">\n",
       "  <thead>\n",
       "    <tr style=\"text-align: right;\">\n",
       "      <th></th>\n",
       "      <th>host_listings_count</th>\n",
       "      <th>host_total_listings_count</th>\n",
       "      <th>latitude</th>\n",
       "      <th>longitude</th>\n",
       "      <th>bedrooms</th>\n",
       "      <th>beds</th>\n",
       "      <th>review_scores_rating</th>\n",
       "      <th>review_scores_accuracy</th>\n",
       "      <th>review_scores_cleanliness</th>\n",
       "      <th>review_scores_checkin</th>\n",
       "      <th>review_scores_communication</th>\n",
       "      <th>review_scores_location</th>\n",
       "      <th>review_scores_value</th>\n",
       "      <th>reviews_per_month</th>\n",
       "    </tr>\n",
       "  </thead>\n",
       "  <tbody>\n",
       "    <tr>\n",
       "      <th>ks-statistic</th>\n",
       "      <td>0.365464</td>\n",
       "      <td>0.379219</td>\n",
       "      <td>0.532205</td>\n",
       "      <td>0.530407</td>\n",
       "      <td>0.333525</td>\n",
       "      <td>2.443901e-01</td>\n",
       "      <td>2.614958e-01</td>\n",
       "      <td>0.465204</td>\n",
       "      <td>0.412002</td>\n",
       "      <td>0.493541</td>\n",
       "      <td>0.497708</td>\n",
       "      <td>0.38672</td>\n",
       "      <td>0.385524</td>\n",
       "      <td>1.775303e-01</td>\n",
       "    </tr>\n",
       "    <tr>\n",
       "      <th>p-value</th>\n",
       "      <td>0.000000</td>\n",
       "      <td>0.000000</td>\n",
       "      <td>0.000000</td>\n",
       "      <td>0.000000</td>\n",
       "      <td>0.000000</td>\n",
       "      <td>8.377493e-247</td>\n",
       "      <td>2.457132e-217</td>\n",
       "      <td>0.000000</td>\n",
       "      <td>0.000000</td>\n",
       "      <td>0.000000</td>\n",
       "      <td>0.000000</td>\n",
       "      <td>0.00000</td>\n",
       "      <td>0.000000</td>\n",
       "      <td>1.745023e-100</td>\n",
       "    </tr>\n",
       "  </tbody>\n",
       "</table>\n",
       "</div>"
      ],
      "text/plain": [
       "              host_listings_count  host_total_listings_count  latitude  \\\n",
       "ks-statistic             0.365464                   0.379219  0.532205   \n",
       "p-value                  0.000000                   0.000000  0.000000   \n",
       "\n",
       "              longitude  bedrooms           beds  review_scores_rating  \\\n",
       "ks-statistic   0.530407  0.333525   2.443901e-01          2.614958e-01   \n",
       "p-value        0.000000  0.000000  8.377493e-247         2.457132e-217   \n",
       "\n",
       "              review_scores_accuracy  review_scores_cleanliness  \\\n",
       "ks-statistic                0.465204                   0.412002   \n",
       "p-value                     0.000000                   0.000000   \n",
       "\n",
       "              review_scores_checkin  review_scores_communication  \\\n",
       "ks-statistic               0.493541                     0.497708   \n",
       "p-value                    0.000000                     0.000000   \n",
       "\n",
       "              review_scores_location  review_scores_value  reviews_per_month  \n",
       "ks-statistic                 0.38672             0.385524       1.775303e-01  \n",
       "p-value                      0.00000             0.000000      1.745023e-100  "
      ]
     },
     "execution_count": 31,
     "metadata": {},
     "output_type": "execute_result"
    }
   ],
   "source": [
    "### Check the if the continious and discrete variables follow normal or uniform distributions respectively \n",
    "### using the two-sided non-parametric ks statistical test namely as normality & uniformity tests.\n",
    "from scipy import stats\n",
    "np.random.seed(234)\n",
    "\n",
    "def compute_ks_statistics_pvalues(var, distr_type):\n",
    "    var = var[var.notna()]\n",
    "    if distr_type == \"norm\":        \n",
    "        norm_sampling = stats.norm.rvs(loc=var.mean(), scale = var.std(), size = len(var))\n",
    "        return stats.ks_2samp(var, norm_sampling)\n",
    "    \n",
    "    elif distr_type  == \"uniform\":    \n",
    "        uniform_sampling = stats.uniform.rvs(loc = var.min(), scale = var.max(), size=len(var))\n",
    "        return stats.ks_2samp(var, uniform_sampling)\n",
    "    \n",
    "### Get Continious Variables from listing\n",
    "continious_var = listings[listings.columns[listings.dtypes == np.float64]]\n",
    "### Also discard features that contain only missing values\n",
    "continious_var = continious_var[continious_var.columns[continious_var.apply(lambda x:x.notna().any(), axis = 0)]]\n",
    "continious_var_res =continious_var.apply(lambda var: compute_ks_statistics_pvalues(var, \"norm\"), axis = 0)\n",
    "\n",
    "continious_var_res.index = [\"ks-statistic\",\"p-value\"]\n",
    "print(\"From the table we observe that the distributions of all continious variables are not normally distributed since all the Null Hypothesis rejected at 0.001 FDR significance level\")\n",
    "continious_var_res\n",
    "\n"
   ]
  },
  {
   "cell_type": "code",
   "execution_count": 32,
   "metadata": {},
   "outputs": [
    {
     "name": "stdout",
     "output_type": "stream",
     "text": [
      "From the table we observe that the distributions of all discrete variables are not uniformly distributed since all the Null Hypothesis rejected at 0.001 significance level\n"
     ]
    },
    {
     "data": {
      "text/html": [
       "<div>\n",
       "<style scoped>\n",
       "    .dataframe tbody tr th:only-of-type {\n",
       "        vertical-align: middle;\n",
       "    }\n",
       "\n",
       "    .dataframe tbody tr th {\n",
       "        vertical-align: top;\n",
       "    }\n",
       "\n",
       "    .dataframe thead th {\n",
       "        text-align: right;\n",
       "    }\n",
       "</style>\n",
       "<table border=\"1\" class=\"dataframe\">\n",
       "  <thead>\n",
       "    <tr style=\"text-align: right;\">\n",
       "      <th></th>\n",
       "      <th>host_listings_count</th>\n",
       "      <th>host_total_listings_count</th>\n",
       "      <th>latitude</th>\n",
       "      <th>longitude</th>\n",
       "      <th>bedrooms</th>\n",
       "      <th>beds</th>\n",
       "      <th>review_scores_rating</th>\n",
       "      <th>review_scores_accuracy</th>\n",
       "      <th>review_scores_cleanliness</th>\n",
       "      <th>review_scores_checkin</th>\n",
       "      <th>review_scores_communication</th>\n",
       "      <th>review_scores_location</th>\n",
       "      <th>review_scores_value</th>\n",
       "      <th>reviews_per_month</th>\n",
       "    </tr>\n",
       "  </thead>\n",
       "  <tbody>\n",
       "    <tr>\n",
       "      <th>ks-statistic</th>\n",
       "      <td>0.365464</td>\n",
       "      <td>0.379219</td>\n",
       "      <td>0.532205</td>\n",
       "      <td>0.530407</td>\n",
       "      <td>0.333525</td>\n",
       "      <td>2.443901e-01</td>\n",
       "      <td>2.614958e-01</td>\n",
       "      <td>0.465204</td>\n",
       "      <td>0.412002</td>\n",
       "      <td>0.493541</td>\n",
       "      <td>0.497708</td>\n",
       "      <td>0.38672</td>\n",
       "      <td>0.385524</td>\n",
       "      <td>1.775303e-01</td>\n",
       "    </tr>\n",
       "    <tr>\n",
       "      <th>p-value</th>\n",
       "      <td>0.000000</td>\n",
       "      <td>0.000000</td>\n",
       "      <td>0.000000</td>\n",
       "      <td>0.000000</td>\n",
       "      <td>0.000000</td>\n",
       "      <td>8.377493e-247</td>\n",
       "      <td>2.457132e-217</td>\n",
       "      <td>0.000000</td>\n",
       "      <td>0.000000</td>\n",
       "      <td>0.000000</td>\n",
       "      <td>0.000000</td>\n",
       "      <td>0.00000</td>\n",
       "      <td>0.000000</td>\n",
       "      <td>1.745023e-100</td>\n",
       "    </tr>\n",
       "  </tbody>\n",
       "</table>\n",
       "</div>"
      ],
      "text/plain": [
       "              host_listings_count  host_total_listings_count  latitude  \\\n",
       "ks-statistic             0.365464                   0.379219  0.532205   \n",
       "p-value                  0.000000                   0.000000  0.000000   \n",
       "\n",
       "              longitude  bedrooms           beds  review_scores_rating  \\\n",
       "ks-statistic   0.530407  0.333525   2.443901e-01          2.614958e-01   \n",
       "p-value        0.000000  0.000000  8.377493e-247         2.457132e-217   \n",
       "\n",
       "              review_scores_accuracy  review_scores_cleanliness  \\\n",
       "ks-statistic                0.465204                   0.412002   \n",
       "p-value                     0.000000                   0.000000   \n",
       "\n",
       "              review_scores_checkin  review_scores_communication  \\\n",
       "ks-statistic               0.493541                     0.497708   \n",
       "p-value                    0.000000                     0.000000   \n",
       "\n",
       "              review_scores_location  review_scores_value  reviews_per_month  \n",
       "ks-statistic                 0.38672             0.385524       1.775303e-01  \n",
       "p-value                      0.00000             0.000000      1.745023e-100  "
      ]
     },
     "execution_count": 32,
     "metadata": {},
     "output_type": "execute_result"
    }
   ],
   "source": [
    "### Get Continious Variables from listing except of the indentifyiers (ids)\n",
    "discretes_var = listings[listings.columns[listings.dtypes == np.int64][2:]]\n",
    "### Also discard features that contain only missing values\n",
    "discretes_var = discretes_var[discretes_var.columns[discretes_var.apply(lambda x:x.notna().any(), axis = 0)]]\n",
    "\n",
    "discretes_var_res =discretes_var.apply(lambda var: compute_ks_statistics_pvalues(var, \"uniform\"), axis = 0)\n",
    "discretes_var_res.index = [\"ks-statistic\",\"p-value\"]\n",
    "print(\"From the table we observe that the distributions of all discrete variables are not uniformly distributed since all the Null Hypothesis rejected at 0.001 significance level\")\n",
    "continious_var_res"
   ]
  },
  {
   "cell_type": "markdown",
   "metadata": {},
   "source": [
    "### Detect Outlies in Continious Univariate Distributions"
   ]
  },
  {
   "cell_type": "code",
   "execution_count": 33,
   "metadata": {},
   "outputs": [
    {
     "name": "stdout",
     "output_type": "stream",
     "text": [
      "We consider as extreme values those that are 3 stadard deviations away from the mean in each univariate distribution\n"
     ]
    },
    {
     "data": {
      "text/html": [
       "<div>\n",
       "<style scoped>\n",
       "    .dataframe tbody tr th:only-of-type {\n",
       "        vertical-align: middle;\n",
       "    }\n",
       "\n",
       "    .dataframe tbody tr th {\n",
       "        vertical-align: top;\n",
       "    }\n",
       "\n",
       "    .dataframe thead th {\n",
       "        text-align: right;\n",
       "    }\n",
       "</style>\n",
       "<table border=\"1\" class=\"dataframe\">\n",
       "  <thead>\n",
       "    <tr style=\"text-align: right;\">\n",
       "      <th></th>\n",
       "      <th>host_listings_count</th>\n",
       "      <th>host_total_listings_count</th>\n",
       "      <th>latitude</th>\n",
       "      <th>longitude</th>\n",
       "      <th>bedrooms</th>\n",
       "      <th>beds</th>\n",
       "      <th>review_scores_rating</th>\n",
       "      <th>review_scores_accuracy</th>\n",
       "      <th>review_scores_cleanliness</th>\n",
       "      <th>review_scores_checkin</th>\n",
       "      <th>review_scores_communication</th>\n",
       "      <th>review_scores_location</th>\n",
       "      <th>review_scores_value</th>\n",
       "      <th>reviews_per_month</th>\n",
       "    </tr>\n",
       "  </thead>\n",
       "  <tbody>\n",
       "    <tr>\n",
       "      <th>Number of Outliers</th>\n",
       "      <td>178</td>\n",
       "      <td>178</td>\n",
       "      <td>90</td>\n",
       "      <td>90</td>\n",
       "      <td>68</td>\n",
       "      <td>162</td>\n",
       "      <td>113</td>\n",
       "      <td>92</td>\n",
       "      <td>114</td>\n",
       "      <td>157</td>\n",
       "      <td>67</td>\n",
       "      <td>132</td>\n",
       "      <td>107</td>\n",
       "      <td>119</td>\n",
       "    </tr>\n",
       "    <tr>\n",
       "      <th>List of Outlier Values</th>\n",
       "      <td>[181.0, 181.0, 181.0, 748.0, 748.0, 181.0, 181...</td>\n",
       "      <td>[181.0, 181.0, 181.0, 748.0, 748.0, 181.0, 181...</td>\n",
       "      <td>[37966.0, 37986.0, 37988.0, 37969.0, 37964.0, ...</td>\n",
       "      <td>[23765.0, 23766.0, 23745.0, 23733.0, 23726.0, ...</td>\n",
       "      <td>[5.0, 6.0, 5.0, 5.0, 6.0, 5.0, 6.0, 6.0, 5.0, ...</td>\n",
       "      <td>[7.0, 8.0, 8.0, 9.0, 8.0, 8.0, 7.0, 9.0, 8.0, ...</td>\n",
       "      <td>[40.0, 40.0, 60.0, 60.0, 20.0, 71.0, 70.0, 20....</td>\n",
       "      <td>[6.0, 6.0, 6.0, 6.0, 7.0, 2.0, 6.0, 4.0, 2.0, ...</td>\n",
       "      <td>[7.0, 7.0, 4.0, 6.0, 2.0, 7.0, 7.0, 6.0, 4.0, ...</td>\n",
       "      <td>[8.0, 8.0, 6.0, 6.0, 8.0, 8.0, 8.0, 8.0, 8.0, ...</td>\n",
       "      <td>[6.0, 6.0, 7.0, 2.0, 6.0, 3.0, 2.0, 6.0, 6.0, ...</td>\n",
       "      <td>[7.0, 7.0, 7.0, 7.0, 4.0, 7.0, 6.0, 7.0, 7.0, ...</td>\n",
       "      <td>[7.0, 6.0, 4.0, 7.0, 6.0, 7.0, 2.0, 4.0, 7.0, ...</td>\n",
       "      <td>[7.93, 7.71, 7.66, 7.54, 8.67, 8.78, 8.8, 7.26...</td>\n",
       "    </tr>\n",
       "  </tbody>\n",
       "</table>\n",
       "</div>"
      ],
      "text/plain": [
       "                                                      host_listings_count  \\\n",
       "Number of Outliers                                                    178   \n",
       "List of Outlier Values  [181.0, 181.0, 181.0, 748.0, 748.0, 181.0, 181...   \n",
       "\n",
       "                                                host_total_listings_count  \\\n",
       "Number of Outliers                                                    178   \n",
       "List of Outlier Values  [181.0, 181.0, 181.0, 748.0, 748.0, 181.0, 181...   \n",
       "\n",
       "                                                                 latitude  \\\n",
       "Number of Outliers                                                     90   \n",
       "List of Outlier Values  [37966.0, 37986.0, 37988.0, 37969.0, 37964.0, ...   \n",
       "\n",
       "                                                                longitude  \\\n",
       "Number of Outliers                                                     90   \n",
       "List of Outlier Values  [23765.0, 23766.0, 23745.0, 23733.0, 23726.0, ...   \n",
       "\n",
       "                                                                 bedrooms  \\\n",
       "Number of Outliers                                                     68   \n",
       "List of Outlier Values  [5.0, 6.0, 5.0, 5.0, 6.0, 5.0, 6.0, 6.0, 5.0, ...   \n",
       "\n",
       "                                                                     beds  \\\n",
       "Number of Outliers                                                    162   \n",
       "List of Outlier Values  [7.0, 8.0, 8.0, 9.0, 8.0, 8.0, 7.0, 9.0, 8.0, ...   \n",
       "\n",
       "                                                     review_scores_rating  \\\n",
       "Number of Outliers                                                    113   \n",
       "List of Outlier Values  [40.0, 40.0, 60.0, 60.0, 20.0, 71.0, 70.0, 20....   \n",
       "\n",
       "                                                   review_scores_accuracy  \\\n",
       "Number of Outliers                                                     92   \n",
       "List of Outlier Values  [6.0, 6.0, 6.0, 6.0, 7.0, 2.0, 6.0, 4.0, 2.0, ...   \n",
       "\n",
       "                                                review_scores_cleanliness  \\\n",
       "Number of Outliers                                                    114   \n",
       "List of Outlier Values  [7.0, 7.0, 4.0, 6.0, 2.0, 7.0, 7.0, 6.0, 4.0, ...   \n",
       "\n",
       "                                                    review_scores_checkin  \\\n",
       "Number of Outliers                                                    157   \n",
       "List of Outlier Values  [8.0, 8.0, 6.0, 6.0, 8.0, 8.0, 8.0, 8.0, 8.0, ...   \n",
       "\n",
       "                                              review_scores_communication  \\\n",
       "Number of Outliers                                                     67   \n",
       "List of Outlier Values  [6.0, 6.0, 7.0, 2.0, 6.0, 3.0, 2.0, 6.0, 6.0, ...   \n",
       "\n",
       "                                                   review_scores_location  \\\n",
       "Number of Outliers                                                    132   \n",
       "List of Outlier Values  [7.0, 7.0, 7.0, 7.0, 4.0, 7.0, 6.0, 7.0, 7.0, ...   \n",
       "\n",
       "                                                      review_scores_value  \\\n",
       "Number of Outliers                                                    107   \n",
       "List of Outlier Values  [7.0, 6.0, 4.0, 7.0, 6.0, 7.0, 2.0, 4.0, 7.0, ...   \n",
       "\n",
       "                                                        reviews_per_month  \n",
       "Number of Outliers                                                    119  \n",
       "List of Outlier Values  [7.93, 7.71, 7.66, 7.54, 8.67, 8.78, 8.8, 7.26...  "
      ]
     },
     "metadata": {},
     "output_type": "display_data"
    }
   ],
   "source": [
    "def estimate_outliers (var):\n",
    "    var = var[var.notna()]\n",
    "    mean = var.mean()\n",
    "    std= var.std()\n",
    "    return [var[(var > mean + 3 * std) | (var < mean - 3 * std)].count(), var[(var > mean + 3 * std) | (var < mean - 3 * std)].values]\n",
    "    \n",
    "continious_var_res_out = continious_var.apply(lambda var:estimate_outliers(var), axis = 0)\n",
    "continious_var_res_out.index = [\"Number of Outliers\", \"List of Outlier Values\"]\n",
    "print(\"We consider as extreme values those that are 3 stadard deviations away from the mean in each univariate distribution\")\n",
    "display(continious_var_res_out)"
   ]
  },
  {
   "cell_type": "markdown",
   "metadata": {},
   "source": [
    "### Find  Discrete or Continious Features Associated with the Price Target Using Linear Models with Regularizaiton "
   ]
  },
  {
   "cell_type": "code",
   "execution_count": 34,
   "metadata": {
    "scrolled": true
   },
   "outputs": [
    {
     "name": "stdout",
     "output_type": "stream",
     "text": [
      "We could infer that the prices of the majority of the listings are concentrated into a region around 50\n"
     ]
    },
    {
     "data": {
      "image/png": "[encoded data removed]",
      "text/plain": [
       "<Figure size 432x288 with 1 Axes>"
      ]
     },
     "metadata": {
      "needs_background": "light"
     },
     "output_type": "display_data"
    }
   ],
   "source": [
    "from sklearn import linear_model\n",
    "from sklearn.metrics import mean_squared_error\n",
    "import copy\n",
    "\n",
    "price = listings[\"price\"].apply(lambda x: float(x[1:].replace(\",\",\"\")))\n",
    "price.plot.hist(bins = 1000)\n",
    "plt.xlim(0,500)\n",
    "print(\"We could infer that the prices of the majority of the listings are concentrated into a region around 50\")"
   ]
  },
  {
   "cell_type": "markdown",
   "metadata": {},
   "source": [
    "#### We apply ridge linear regression with reqularization term alpha equal to 0.5.\n",
    "#### We seek for the best univariate fitting of each variable to the price.\n",
    "#### So variables with the best predictive performance (Low RMSE and Ligh R square) are characterized directly associated with the price."
   ]
  },
  {
   "cell_type": "code",
   "execution_count": 36,
   "metadata": {},
   "outputs": [
    {
     "name": "stdout",
     "output_type": "stream",
     "text": [
      "All the features associated to price in ranked order from the most significants to the less ones.\n",
      "It seems that the number of listings, that are entire homes, each host has its own possesion affect at most the\n",
      " pricing of all the listings\n",
      "The second reasonable significant factor in order that is hihgly associate with the pricing is the number of\n",
      "accomodates each department can fit !!\n"
     ]
    },
    {
     "data": {
      "text/html": [
       "<div>\n",
       "<style scoped>\n",
       "    .dataframe tbody tr th:only-of-type {\n",
       "        vertical-align: middle;\n",
       "    }\n",
       "\n",
       "    .dataframe tbody tr th {\n",
       "        vertical-align: top;\n",
       "    }\n",
       "\n",
       "    .dataframe thead th {\n",
       "        text-align: right;\n",
       "    }\n",
       "</style>\n",
       "<table border=\"1\" class=\"dataframe\">\n",
       "  <thead>\n",
       "    <tr style=\"text-align: right;\">\n",
       "      <th></th>\n",
       "      <th>calculated_host_listings_count_entire_homes</th>\n",
       "      <th>accommodates</th>\n",
       "      <th>calculated_host_listings_count</th>\n",
       "      <th>host_listings_count</th>\n",
       "      <th>host_total_listings_count</th>\n",
       "      <th>number_of_reviews_ltm</th>\n",
       "      <th>availability_30</th>\n",
       "      <th>number_of_reviews_l30d</th>\n",
       "      <th>number_of_reviews</th>\n",
       "      <th>availability_365</th>\n",
       "      <th>...</th>\n",
       "      <th>beds</th>\n",
       "      <th>bedrooms</th>\n",
       "      <th>reviews_per_month</th>\n",
       "      <th>review_scores_rating</th>\n",
       "      <th>review_scores_communication</th>\n",
       "      <th>review_scores_checkin</th>\n",
       "      <th>review_scores_cleanliness</th>\n",
       "      <th>review_scores_accuracy</th>\n",
       "      <th>review_scores_location</th>\n",
       "      <th>review_scores_value</th>\n",
       "    </tr>\n",
       "  </thead>\n",
       "  <tbody>\n",
       "    <tr>\n",
       "      <th>RMSE</th>\n",
       "      <td>415.275683</td>\n",
       "      <td>415.314366</td>\n",
       "      <td>415.389407</td>\n",
       "      <td>415.513876</td>\n",
       "      <td>415.513876</td>\n",
       "      <td>415.809748</td>\n",
       "      <td>415.864636</td>\n",
       "      <td>415.867125</td>\n",
       "      <td>415.884910</td>\n",
       "      <td>415.896462</td>\n",
       "      <td>...</td>\n",
       "      <td>416.854468</td>\n",
       "      <td>433.329541</td>\n",
       "      <td>460.991811</td>\n",
       "      <td>462.799996</td>\n",
       "      <td>463.485097</td>\n",
       "      <td>463.492819</td>\n",
       "      <td>463.501704</td>\n",
       "      <td>463.502556</td>\n",
       "      <td>4.635078e+02</td>\n",
       "      <td>463.539084</td>\n",
       "    </tr>\n",
       "    <tr>\n",
       "      <th>R^2</th>\n",
       "      <td>0.003457</td>\n",
       "      <td>0.003271</td>\n",
       "      <td>0.002911</td>\n",
       "      <td>0.002732</td>\n",
       "      <td>0.002732</td>\n",
       "      <td>0.000892</td>\n",
       "      <td>0.000628</td>\n",
       "      <td>0.000616</td>\n",
       "      <td>0.000531</td>\n",
       "      <td>0.000475</td>\n",
       "      <td>...</td>\n",
       "      <td>0.001343</td>\n",
       "      <td>0.001854</td>\n",
       "      <td>0.000860</td>\n",
       "      <td>0.000152</td>\n",
       "      <td>0.000098</td>\n",
       "      <td>0.000065</td>\n",
       "      <td>0.000026</td>\n",
       "      <td>0.000023</td>\n",
       "      <td>4.958019e-09</td>\n",
       "      <td>0.000002</td>\n",
       "    </tr>\n",
       "  </tbody>\n",
       "</table>\n",
       "<p>2 rows × 28 columns</p>\n",
       "</div>"
      ],
      "text/plain": [
       "      calculated_host_listings_count_entire_homes  accommodates  \\\n",
       "RMSE                                   415.275683    415.314366   \n",
       "R^2                                      0.003457      0.003271   \n",
       "\n",
       "      calculated_host_listings_count  host_listings_count  \\\n",
       "RMSE                      415.389407           415.513876   \n",
       "R^2                         0.002911             0.002732   \n",
       "\n",
       "      host_total_listings_count  number_of_reviews_ltm  availability_30  \\\n",
       "RMSE                 415.513876             415.809748       415.864636   \n",
       "R^2                    0.002732               0.000892         0.000628   \n",
       "\n",
       "      number_of_reviews_l30d  number_of_reviews  availability_365  ...  \\\n",
       "RMSE              415.867125         415.884910        415.896462  ...   \n",
       "R^2                 0.000616           0.000531          0.000475  ...   \n",
       "\n",
       "            beds    bedrooms  reviews_per_month  review_scores_rating  \\\n",
       "RMSE  416.854468  433.329541         460.991811            462.799996   \n",
       "R^2     0.001343    0.001854           0.000860              0.000152   \n",
       "\n",
       "      review_scores_communication  review_scores_checkin  \\\n",
       "RMSE                   463.485097             463.492819   \n",
       "R^2                      0.000098               0.000065   \n",
       "\n",
       "      review_scores_cleanliness  review_scores_accuracy  \\\n",
       "RMSE                 463.501704              463.502556   \n",
       "R^2                    0.000026                0.000023   \n",
       "\n",
       "      review_scores_location  review_scores_value  \n",
       "RMSE            4.635078e+02           463.539084  \n",
       "R^2             4.958019e-09             0.000002  \n",
       "\n",
       "[2 rows x 28 columns]"
      ]
     },
     "metadata": {},
     "output_type": "display_data"
    },
    {
     "name": "stdout",
     "output_type": "stream",
     "text": [
      "RMSE indicates the residual mean squared error or predictive performance of the linear model !\n",
      " \n",
      "R^2 indicates the percentage of expalained variance of the price by the model. Substantially, quantifies the\n",
      "associations of the predictions between the model used and the baseline average price\n",
      "In our case all the univariate linear models predict very poor and quite equally as the baseline does\n"
     ]
    }
   ],
   "source": [
    "## We apply ridge linear regression with reqularization term alpha equal to 0.5.\n",
    "## We seek for the best univariate fitting of each variable to the price.\n",
    "## The variable with the best predictive performanc (Low RMSE) are characterized directly associated.\n",
    "from sklearn.metrics import r2_score\n",
    "\n",
    "all_vars = listings[listings.columns[(listings.dtypes == np.int64) | (listings.dtypes == np.float64)][2:]]\n",
    "\n",
    "all_vars = all_vars[all_vars.columns[all_vars.apply(lambda x:x.notna().any(), axis = 0)]]\n",
    "\n",
    "ridge = linear_model.Ridge(alpha=.5)\n",
    "\n",
    "def compute_rmse_r2(var,price,linear_model):\n",
    "    notna_index = var.index[var.notna()]\n",
    "    var = var [notna_index]\n",
    "    price = price[notna_index]\n",
    "    linear_model.fit(var.values.reshape(-1,1), price.values.reshape(-1,1))\n",
    "    price_predictions = linear_model.predict(var.values.reshape(-1,1))\n",
    "    \n",
    "    #return [np.sqrt(np.sum((price_predictions -  price.values.reshape(-1,1))**2)/len(price_predictions))]    \n",
    "    return [np.sqrt(mean_squared_error( price.values.reshape(-1,1),price_predictions)),r2_score(price.values.reshape(-1,1),price_predictions)]\n",
    "rmse_res = all_vars.apply(lambda var: compute_rmse_r2(var,copy.deepcopy(price),ridge), axis = 0)\n",
    "\n",
    "print(\"All the features associated to price in ranked order from the most significants to the less ones.\")\n",
    "print(\"It seems that the number of listings, that are entire homes, each host has its own possesion affect at most the\\n pricing of all the listings\")\n",
    "print(\"The second reasonable significant factor in order that is hihgly associate with the pricing is the number of\\naccomodates each department can fit !!\")\n",
    "\n",
    "\n",
    "rmse_res = rmse_res.sort_values(by = 0,axis=1,  ascending=True)\n",
    "rmse_res.index =[\"RMSE\", \"R^2\"]\n",
    "display(rmse_res)\n",
    "print(\"RMSE indicates the residual mean squared error or predictive performance of the linear model !\\n \")\n",
    "print(\"R^2 indicates the percentage of expalained variance of the price by the model. Substantially, quantifies the\\nassociations of the predictions between the model used and the baseline average price\")\n",
    "print(\"In our case all the univariate linear models predict very poor and quite equally as the baseline does\")"
   ]
  },
  {
   "cell_type": "code",
   "execution_count": null,
   "metadata": {},
   "outputs": [],
   "source": []
  },
  {
   "cell_type": "code",
   "execution_count": null,
   "metadata": {},
   "outputs": [],
   "source": []
  }
 ],
 "metadata": {
  "kernelspec": {
   "display_name": "Python 3",
   "language": "python",
   "name": "python3"
  },
  "language_info": {
   "codemirror_mode": {
    "name": "ipython",
    "version": 3
   },
   "file_extension": ".py",
   "mimetype": "text/x-python",
   "name": "python",
   "nbconvert_exporter": "python",
   "pygments_lexer": "ipython3",
   "version": "3.6.9"
  }
 },
 "nbformat": 4,
 "nbformat_minor": 4
}
